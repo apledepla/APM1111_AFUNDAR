{
 "cells": [
  {
   "cell_type": "code",
   "execution_count": 3,
   "id": "26f2d438-c4e7-4f2d-ae86-de4c745a585f",
   "metadata": {},
   "outputs": [
    {
     "data": {
      "text/html": [
       "<div>\n",
       "<style scoped>\n",
       "    .dataframe tbody tr th:only-of-type {\n",
       "        vertical-align: middle;\n",
       "    }\n",
       "\n",
       "    .dataframe tbody tr th {\n",
       "        vertical-align: top;\n",
       "    }\n",
       "\n",
       "    .dataframe thead th {\n",
       "        text-align: right;\n",
       "    }\n",
       "</style>\n",
       "<table border=\"1\" class=\"dataframe\">\n",
       "  <thead>\n",
       "    <tr style=\"text-align: right;\">\n",
       "      <th></th>\n",
       "      <th>gender</th>\n",
       "      <th>education_level</th>\n",
       "      <th>political_interest</th>\n",
       "    </tr>\n",
       "  </thead>\n",
       "  <tbody>\n",
       "    <tr>\n",
       "      <th>0</th>\n",
       "      <td>1</td>\n",
       "      <td>1</td>\n",
       "      <td>38.0</td>\n",
       "    </tr>\n",
       "    <tr>\n",
       "      <th>1</th>\n",
       "      <td>1</td>\n",
       "      <td>1</td>\n",
       "      <td>39.0</td>\n",
       "    </tr>\n",
       "    <tr>\n",
       "      <th>2</th>\n",
       "      <td>1</td>\n",
       "      <td>1</td>\n",
       "      <td>35.0</td>\n",
       "    </tr>\n",
       "    <tr>\n",
       "      <th>3</th>\n",
       "      <td>1</td>\n",
       "      <td>1</td>\n",
       "      <td>38.0</td>\n",
       "    </tr>\n",
       "    <tr>\n",
       "      <th>4</th>\n",
       "      <td>1</td>\n",
       "      <td>1</td>\n",
       "      <td>41.0</td>\n",
       "    </tr>\n",
       "  </tbody>\n",
       "</table>\n",
       "</div>"
      ],
      "text/plain": [
       "   gender  education_level  political_interest\n",
       "0       1                1                38.0\n",
       "1       1                1                39.0\n",
       "2       1                1                35.0\n",
       "3       1                1                38.0\n",
       "4       1                1                41.0"
      ]
     },
     "execution_count": 3,
     "metadata": {},
     "output_type": "execute_result"
    }
   ],
   "source": [
    "import pandas as pd\n",
    "from scipy.stats import shapiro\n",
    "\n",
    "\n",
    "df=pd.read_csv('Political Interest.csv')\n",
    "\n",
    "df.head()"
   ]
  },
  {
   "cell_type": "markdown",
   "id": "ac09276a-8c9e-425d-b2df-e53d327f623e",
   "metadata": {},
   "source": [
    "# Normality test"
   ]
  },
  {
   "cell_type": "code",
   "execution_count": 8,
   "id": "1d52d44e-a246-4df2-9b65-13687be609d9",
   "metadata": {},
   "outputs": [
    {
     "data": {
      "text/plain": [
       "{(1, 1): {'Statistic': 0.9813390134795488, 'p-value': 0.9708070387442351},\n",
       " (1, 2): {'Statistic': 0.9565019530188729, 'p-value': 0.7610940646763964},\n",
       " (1, 3): {'Statistic': 0.9153413250787927, 'p-value': 0.31973071050675683},\n",
       " (2, 1): {'Statistic': 0.9629531035675938, 'p-value': 0.8189494017694237},\n",
       " (2, 2): {'Statistic': 0.9629531035675938, 'p-value': 0.8189494017694237},\n",
       " (2, 3): {'Statistic': 0.9499896853336705, 'p-value': 0.6683785084587048}}"
      ]
     },
     "metadata": {},
     "output_type": "display_data"
    }
   ],
   "source": [
    "from IPython.display import display\n",
    "\n",
    "\n",
    "normality ={}\n",
    "for i in df['gender'].unique():\n",
    "    for j in df['education_level'].unique():\n",
    "        group_normal=df[(df['gender'] == i) & (df['education_level'] == j)]['political_interest']\n",
    "        stat, p_value = shapiro(group_normal)\n",
    "        normality[(int(i), int(j))] = {'Statistic': float(stat), 'p-value': float(p_value)}\n",
    "\n",
    "display(normality)\n",
    "\n"
   ]
  },
  {
   "cell_type": "markdown",
   "id": "33156056-4c94-4905-a88c-3573447b3ba7",
   "metadata": {},
   "source": [
    "# Levene's test"
   ]
  },
  {
   "cell_type": "code",
   "execution_count": 15,
   "id": "5f604bb1-afe3-49fe-b20d-7554858d7dd6",
   "metadata": {},
   "outputs": [
    {
     "name": "stdout",
     "output_type": "stream",
     "text": [
      "Statistic: 2.20536094868572 p-value: 0.06764955900365917\n"
     ]
    }
   ],
   "source": [
    "from scipy.stats import levene\n",
    "\n",
    "\n",
    "group_levene = [df[(df['gender'] == i) & (df['education_level'] == j)]['political_interest']\n",
    "          for i in df['gender'].unique() for j in df['education_level'].unique()]\n",
    "\n",
    "levene_stat, levene_p = levene(*group_levene)\n",
    "float(levene_stat), float(levene_p)\n",
    "print(f\"Statistic: {levene_stat} p-value: {levene_p}\")"
   ]
  },
  {
   "cell_type": "markdown",
   "id": "37871d45-5f92-49f0-8bf0-3a4574e7849a",
   "metadata": {},
   "source": [
    "# Two-way ANOVA"
   ]
  },
  {
   "cell_type": "code",
   "execution_count": 18,
   "id": "2c5b4d2f-acba-4ac5-8f6d-bc4b95b55c5a",
   "metadata": {},
   "outputs": [
    {
     "data": {
      "text/html": [
       "<div>\n",
       "<style scoped>\n",
       "    .dataframe tbody tr th:only-of-type {\n",
       "        vertical-align: middle;\n",
       "    }\n",
       "\n",
       "    .dataframe tbody tr th {\n",
       "        vertical-align: top;\n",
       "    }\n",
       "\n",
       "    .dataframe thead th {\n",
       "        text-align: right;\n",
       "    }\n",
       "</style>\n",
       "<table border=\"1\" class=\"dataframe\">\n",
       "  <thead>\n",
       "    <tr style=\"text-align: right;\">\n",
       "      <th></th>\n",
       "      <th>sum_sq</th>\n",
       "      <th>df</th>\n",
       "      <th>F</th>\n",
       "      <th>PR(&gt;F)</th>\n",
       "    </tr>\n",
       "  </thead>\n",
       "  <tbody>\n",
       "    <tr>\n",
       "      <th>C(gender)</th>\n",
       "      <td>10.704737</td>\n",
       "      <td>1.0</td>\n",
       "      <td>0.744533</td>\n",
       "      <td>3.921748e-01</td>\n",
       "    </tr>\n",
       "    <tr>\n",
       "      <th>C(education_level)</th>\n",
       "      <td>5409.958966</td>\n",
       "      <td>2.0</td>\n",
       "      <td>188.136131</td>\n",
       "      <td>1.553704e-24</td>\n",
       "    </tr>\n",
       "    <tr>\n",
       "      <th>C(gender):C(education_level)</th>\n",
       "      <td>210.337661</td>\n",
       "      <td>2.0</td>\n",
       "      <td>7.314679</td>\n",
       "      <td>1.587744e-03</td>\n",
       "    </tr>\n",
       "    <tr>\n",
       "      <th>Residual</th>\n",
       "      <td>747.644444</td>\n",
       "      <td>52.0</td>\n",
       "      <td>NaN</td>\n",
       "      <td>NaN</td>\n",
       "    </tr>\n",
       "  </tbody>\n",
       "</table>\n",
       "</div>"
      ],
      "text/plain": [
       "                                   sum_sq    df           F        PR(>F)\n",
       "C(gender)                       10.704737   1.0    0.744533  3.921748e-01\n",
       "C(education_level)            5409.958966   2.0  188.136131  1.553704e-24\n",
       "C(gender):C(education_level)   210.337661   2.0    7.314679  1.587744e-03\n",
       "Residual                       747.644444  52.0         NaN           NaN"
      ]
     },
     "execution_count": 18,
     "metadata": {},
     "output_type": "execute_result"
    }
   ],
   "source": [
    "import statsmodels.api as sm \n",
    "from statsmodels.formula.api import ols \n",
    "model = ols('political_interest ~ C(gender) * C(education_level)', data=df).fit()\n",
    "anova_table = sm.stats.anova_lm(model, typ=2)\n",
    "\n",
    "anova_table"
   ]
  },
  {
   "cell_type": "code",
   "execution_count": null,
   "id": "de97d341-6f7b-47b5-8edc-f913d5a222fa",
   "metadata": {},
   "outputs": [],
   "source": []
  }
 ],
 "metadata": {
  "kernelspec": {
   "display_name": "Python 3 (ipykernel)",
   "language": "python",
   "name": "python3"
  },
  "language_info": {
   "codemirror_mode": {
    "name": "ipython",
    "version": 3
   },
   "file_extension": ".py",
   "mimetype": "text/x-python",
   "name": "python",
   "nbconvert_exporter": "python",
   "pygments_lexer": "ipython3",
   "version": "3.12.5"
  }
 },
 "nbformat": 4,
 "nbformat_minor": 5
}
