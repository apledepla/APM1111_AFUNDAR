{
 "cells": [
  {
   "cell_type": "code",
   "execution_count": 10,
   "id": "bfbcc806-b099-4665-b486-29d0aeb132e2",
   "metadata": {},
   "outputs": [],
   "source": [
    "import scipy.stats as stats\n",
    "import numpy as np\n",
    "import pandas as pd\n",
    "\n",
    "data_male=[12,7,7,10,8,10,11,9,9,13,4,9,12,11,9,9,7,12,10,13,11,10,6,12,11,9,10,12,8,9,13,10,9,7,10,7,10,8,11,10,11,7,15,8,9,9,11,13,10,13]\n",
    "data_female=[11,10,11,10,11,12,12,10,9,9,9,10,8,7,12,9,7,8,9,8,7,7,9,9,12,10,9,13,9,9,10,9,6,12,8,11,8,8,11,12,9,10,11,14,12,7,11,10,9,11]\n",
    "\n",
    "data_male_pd=pd.Series(data_male)\n",
    "data_female_pd=pd.Series(data_female)\n",
    "n=data_male_pd.count()\n"
   ]
  },
  {
   "cell_type": "markdown",
   "id": "f36df99e-c589-4e9a-9073-cc3eefd6e721",
   "metadata": {},
   "source": [
    "# 1 \n",
    "The study will partake in finding whether the mean of the female and male college students is the same in terms of hours talking on the cell phone.\n",
    "\n",
    "# Null Hypothesis:'\n",
    "    The time spent talking on the cell phone is the same:\n",
    "    mean_male=mean_female\n",
    "\n",
    "# Alternative Hypothesis:\n",
    "    The time spent talking on the cell phone is different:\n",
    "    mean_male≠mean_female\n",
    "\n",
    "# Rationale:\n",
    "This will be conducted by using the two-sample t-test to see whether there are significant difference in the time spent.\n",
    "\n",
    "The test will compare the data set of both the male and female to see whether there are significant difference based on logic and statistics.\n",
    "\n",
    "To conduct the test:\n",
    "1. The table provided will be used as the data set for the male and female\n",
    "2. Compute the t-test along with the associated p-value\n",
    "3. Compare the p-value with the standard alpha=0.05 to see whether to reject the null hypothesis or not.\n",
    "\n",
    "   "
   ]
  },
  {
   "cell_type": "markdown",
   "id": "508b4b60-505d-410b-a5c0-ada261a2ca34",
   "metadata": {},
   "source": [
    "# 2\n",
    "To check whether the data set has an equal variances: Use Levene's test first to check if the p-value will be grater than 0.05 (Meaning equal variances) or less (Meaning unequal variances)"
   ]
  },
  {
   "cell_type": "code",
   "execution_count": 20,
   "id": "3af95bbe-bb7f-4d03-8f92-e4920cdac676",
   "metadata": {},
   "outputs": [
    {
     "name": "stdout",
     "output_type": "stream",
     "text": [
      "Equal variances.\n",
      "\n",
      "Therefore, since the variances are equal the t-test will have equal_var=True\n",
      "The t-value is 0.30394907866566184 and the p-value is 0.7618111039906375\n",
      "Since 0.7618111039906375 is greater than alpha=0.05, the null hypothesis will not be rejected due to lack of evidence\n"
     ]
    }
   ],
   "source": [
    "levene_stat, levene_p_val = stats.levene(data_male,data_female)\n",
    "\n",
    "if levene_p_val > 0.05:\n",
    "    print(\"Equal variances.\\n\")\n",
    "else:\n",
    "    print(\"Unequal variances.\\n\")\n",
    "\n",
    "print(\"Therefore, since the variances are equal the t-test will have equal_var=True\")\n",
    "\n",
    "t_stat, p_val = stats.ttest_ind(data_male,data_female, equal_var=True)\n",
    "\n",
    "print(f\"The t-value is {t_stat} and the p-value is {p_val}\")\n",
    "\n",
    "print(f\"Since {p_val} is greater than alpha=0.05, the null hypothesis will not be rejected due to lack of evidence\")"
   ]
  },
  {
   "cell_type": "markdown",
   "id": "8901be34-9c77-49d2-aeae-b9316d5a452e",
   "metadata": {},
   "source": [
    "The Levene's test resulted into equal variances, therefore the t-test conducted will have equal_var set to True.\n",
    "\n",
    "With this the values are:\n",
    "    1. T-value = 0.303949\n",
    "    2. P-value = 0.761811\n",
    "\n",
    "Therefore, since 0.761811 > 0.05, the null hypothesis will not be rejected due to lack of evidence."
   ]
  },
  {
   "cell_type": "markdown",
   "id": "6d16b57c-922e-416a-a617-cde01da5a7b5",
   "metadata": {},
   "source": [
    "# Reccomendation to the Researchers\n",
    "\n",
    "The current data set does not have significant difference thus the researches should conclude that there are no significant difference in phone usage between the male and female.\n",
    "\n",
    "However, this doesn't prove that the mean of both male and female is the same.\n"
   ]
  },
  {
   "cell_type": "markdown",
   "id": "1cbd25f1-b660-4c05-b5eb-c13cb5b882f7",
   "metadata": {},
   "source": [
    "# 3. Descriptive Statistical Summaries for Male and Female"
   ]
  },
  {
   "cell_type": "code",
   "execution_count": 21,
   "id": "deff2e92-c2ae-48b9-b51e-1a7c9990bfcd",
   "metadata": {},
   "outputs": [
    {
     "data": {
      "text/html": [
       "<style type=\"text/css\">\n",
       "</style>\n",
       "<table id=\"T_356a6\">\n",
       "  <thead>\n",
       "    <tr>\n",
       "      <th id=\"T_356a6_level0_col0\" class=\"col_heading level0 col0\" >Measure_Female</th>\n",
       "      <th id=\"T_356a6_level0_col1\" class=\"col_heading level0 col1\" >Value</th>\n",
       "    </tr>\n",
       "  </thead>\n",
       "  <tbody>\n",
       "    <tr>\n",
       "      <td id=\"T_356a6_row0_col0\" class=\"data row0 col0\" >Valid</td>\n",
       "      <td id=\"T_356a6_row0_col1\" class=\"data row0 col1\" >50</td>\n",
       "    </tr>\n",
       "    <tr>\n",
       "      <td id=\"T_356a6_row1_col0\" class=\"data row1 col0\" >Mode</td>\n",
       "      <td id=\"T_356a6_row1_col1\" class=\"data row1 col1\" >[9]</td>\n",
       "    </tr>\n",
       "    <tr>\n",
       "      <td id=\"T_356a6_row2_col0\" class=\"data row2 col0\" >Median</td>\n",
       "      <td id=\"T_356a6_row2_col1\" class=\"data row2 col1\" >9.500000</td>\n",
       "    </tr>\n",
       "    <tr>\n",
       "      <td id=\"T_356a6_row3_col0\" class=\"data row3 col0\" >Mean</td>\n",
       "      <td id=\"T_356a6_row3_col1\" class=\"data row3 col1\" >9.700000</td>\n",
       "    </tr>\n",
       "    <tr>\n",
       "      <td id=\"T_356a6_row4_col0\" class=\"data row4 col0\" >Std. Deviation</td>\n",
       "      <td id=\"T_356a6_row4_col1\" class=\"data row4 col1\" >1.775686</td>\n",
       "    </tr>\n",
       "    <tr>\n",
       "      <td id=\"T_356a6_row5_col0\" class=\"data row5 col0\" >Variance</td>\n",
       "      <td id=\"T_356a6_row5_col1\" class=\"data row5 col1\" >3.153061</td>\n",
       "    </tr>\n",
       "    <tr>\n",
       "      <td id=\"T_356a6_row6_col0\" class=\"data row6 col0\" >Skewness</td>\n",
       "      <td id=\"T_356a6_row6_col1\" class=\"data row6 col1\" >0.134412</td>\n",
       "    </tr>\n",
       "    <tr>\n",
       "      <td id=\"T_356a6_row7_col0\" class=\"data row7 col0\" >Std. Error of Skewness</td>\n",
       "      <td id=\"T_356a6_row7_col1\" class=\"data row7 col1\" >0.336601</td>\n",
       "    </tr>\n",
       "    <tr>\n",
       "      <td id=\"T_356a6_row8_col0\" class=\"data row8 col0\" >Kurtosis</td>\n",
       "      <td id=\"T_356a6_row8_col1\" class=\"data row8 col1\" >-0.441792</td>\n",
       "    </tr>\n",
       "    <tr>\n",
       "      <td id=\"T_356a6_row9_col0\" class=\"data row9 col0\" >Std. Error of Kurtosis</td>\n",
       "      <td id=\"T_356a6_row9_col1\" class=\"data row9 col1\" >0.692820</td>\n",
       "    </tr>\n",
       "    <tr>\n",
       "      <td id=\"T_356a6_row10_col0\" class=\"data row10 col0\" >Minimum</td>\n",
       "      <td id=\"T_356a6_row10_col1\" class=\"data row10 col1\" >6</td>\n",
       "    </tr>\n",
       "    <tr>\n",
       "      <td id=\"T_356a6_row11_col0\" class=\"data row11 col0\" >Maximum</td>\n",
       "      <td id=\"T_356a6_row11_col1\" class=\"data row11 col1\" >14</td>\n",
       "    </tr>\n",
       "    <tr>\n",
       "      <td id=\"T_356a6_row12_col0\" class=\"data row12 col0\" >25th Percentile</td>\n",
       "      <td id=\"T_356a6_row12_col1\" class=\"data row12 col1\" >9.000000</td>\n",
       "    </tr>\n",
       "    <tr>\n",
       "      <td id=\"T_356a6_row13_col0\" class=\"data row13 col0\" >50th Percentile</td>\n",
       "      <td id=\"T_356a6_row13_col1\" class=\"data row13 col1\" >9.500000</td>\n",
       "    </tr>\n",
       "    <tr>\n",
       "      <td id=\"T_356a6_row14_col0\" class=\"data row14 col0\" >75th Percentile</td>\n",
       "      <td id=\"T_356a6_row14_col1\" class=\"data row14 col1\" >11.000000</td>\n",
       "    </tr>\n",
       "    <tr>\n",
       "      <td id=\"T_356a6_row15_col0\" class=\"data row15 col0\" >90th Percentile</td>\n",
       "      <td id=\"T_356a6_row15_col1\" class=\"data row15 col1\" >12.000000</td>\n",
       "    </tr>\n",
       "    <tr>\n",
       "      <td id=\"T_356a6_row16_col0\" class=\"data row16 col0\" >95th Percentile</td>\n",
       "      <td id=\"T_356a6_row16_col1\" class=\"data row16 col1\" >12.000000</td>\n",
       "    </tr>\n",
       "  </tbody>\n",
       "</table>\n"
      ],
      "text/plain": [
       "<pandas.io.formats.style.Styler at 0x204f7fe0170>"
      ]
     },
     "execution_count": 21,
     "metadata": {},
     "output_type": "execute_result"
    }
   ],
   "source": [
    "\n",
    "\n",
    "dp_summary_male={\n",
    "    'Valid': data_male_pd.count(),\n",
    "    'Mode': data_male_pd.mode().tolist(),\n",
    "    'Median': data_male_pd.median(),\n",
    "    'Mean': data_male_pd.mean(),\n",
    "    'Std. Deviation': data_male_pd.std(),\n",
    "    'Variance': data_male_pd.var(),\n",
    "    'Skewness': data_male_pd.skew(),\n",
    "    'Std. Error of Skewness': np.sqrt(((6)*(n)*(n-1))/((n-2)*(n+1)*(n+3))),\n",
    "    'Kurtosis': data_male_pd.kurt(),\n",
    "    'Std. Error of Kurtosis': np.sqrt(24 / n),\n",
    "    'Minimum': data_male_pd.min(),\n",
    "    'Maximum': data_male_pd.max(),\n",
    "    '25th Percentile': data_male_pd.quantile(0.25),\n",
    "    '50th Percentile': data_male_pd.quantile(0.50),\n",
    "    '75th Percentile': data_male_pd.quantile(0.75),\n",
    "    '90th Percentile': data_male_pd.quantile(0.90),\n",
    "    '95th Percentile': data_male_pd.quantile(0.95),\n",
    "}\n",
    "\n",
    "dp_summary_female={\n",
    "    'Valid': data_female_pd.count(),\n",
    "    'Mode': data_female_pd.mode().tolist(),\n",
    "    'Median': data_female_pd.median(),\n",
    "    'Mean': data_female_pd.mean(),\n",
    "    'Std. Deviation': data_female_pd.std(),\n",
    "    'Variance': data_female_pd.var(),\n",
    "    'Skewness': data_female_pd.skew(),\n",
    "    'Std. Error of Skewness': np.sqrt(((6)*(n)*(n-1))/((n-2)*(n+1)*(n+3))),\n",
    "    'Kurtosis': data_female_pd.kurt(),\n",
    "    'Std. Error of Kurtosis': np.sqrt(24 / n),\n",
    "    'Minimum': data_female_pd.min(),\n",
    "    'Maximum': data_female_pd.max(),\n",
    "    '25th Percentile': data_female_pd.quantile(0.25),\n",
    "    '50th Percentile': data_female_pd.quantile(0.50),\n",
    "    '75th Percentile': data_female_pd.quantile(0.75),\n",
    "    '90th Percentile': data_female_pd.quantile(0.90),\n",
    "    '95th Percentile': data_female_pd.quantile(0.95),\n",
    "}\n",
    "\n",
    "descriptive_df_male = pd.DataFrame(dp_summary_male.items(), columns=['Measure_Male', 'Value'])\n",
    "descriptive_df_female = pd.DataFrame(dp_summary_female.items(), columns=['Measure_Female', 'Value'])\n",
    "\n",
    "descriptive_df_female.style.hide(axis=\"index\")\n"
   ]
  },
  {
   "cell_type": "code",
   "execution_count": 12,
   "id": "1efee237-a28e-4de2-9b00-1b0f1529935d",
   "metadata": {},
   "outputs": [
    {
     "data": {
      "text/html": [
       "<style type=\"text/css\">\n",
       "</style>\n",
       "<table id=\"T_541e2\">\n",
       "  <thead>\n",
       "    <tr>\n",
       "      <th id=\"T_541e2_level0_col0\" class=\"col_heading level0 col0\" >Measure_Male</th>\n",
       "      <th id=\"T_541e2_level0_col1\" class=\"col_heading level0 col1\" >Value</th>\n",
       "    </tr>\n",
       "  </thead>\n",
       "  <tbody>\n",
       "    <tr>\n",
       "      <td id=\"T_541e2_row0_col0\" class=\"data row0 col0\" >Valid</td>\n",
       "      <td id=\"T_541e2_row0_col1\" class=\"data row0 col1\" >50</td>\n",
       "    </tr>\n",
       "    <tr>\n",
       "      <td id=\"T_541e2_row1_col0\" class=\"data row1 col0\" >Mode</td>\n",
       "      <td id=\"T_541e2_row1_col1\" class=\"data row1 col1\" >[9, 10]</td>\n",
       "    </tr>\n",
       "    <tr>\n",
       "      <td id=\"T_541e2_row2_col0\" class=\"data row2 col0\" >Median</td>\n",
       "      <td id=\"T_541e2_row2_col1\" class=\"data row2 col1\" >10.000000</td>\n",
       "    </tr>\n",
       "    <tr>\n",
       "      <td id=\"T_541e2_row3_col0\" class=\"data row3 col0\" >Mean</td>\n",
       "      <td id=\"T_541e2_row3_col1\" class=\"data row3 col1\" >9.820000</td>\n",
       "    </tr>\n",
       "    <tr>\n",
       "      <td id=\"T_541e2_row4_col0\" class=\"data row4 col0\" >Std. Deviation</td>\n",
       "      <td id=\"T_541e2_row4_col1\" class=\"data row4 col1\" >2.154161</td>\n",
       "    </tr>\n",
       "    <tr>\n",
       "      <td id=\"T_541e2_row5_col0\" class=\"data row5 col0\" >Variance</td>\n",
       "      <td id=\"T_541e2_row5_col1\" class=\"data row5 col1\" >4.640408</td>\n",
       "    </tr>\n",
       "    <tr>\n",
       "      <td id=\"T_541e2_row6_col0\" class=\"data row6 col0\" >Skewness</td>\n",
       "      <td id=\"T_541e2_row6_col1\" class=\"data row6 col1\" >-0.114676</td>\n",
       "    </tr>\n",
       "    <tr>\n",
       "      <td id=\"T_541e2_row7_col0\" class=\"data row7 col0\" >Std. Error of Skewness</td>\n",
       "      <td id=\"T_541e2_row7_col1\" class=\"data row7 col1\" >0.336601</td>\n",
       "    </tr>\n",
       "    <tr>\n",
       "      <td id=\"T_541e2_row8_col0\" class=\"data row8 col0\" >Kurtosis</td>\n",
       "      <td id=\"T_541e2_row8_col1\" class=\"data row8 col1\" >0.177262</td>\n",
       "    </tr>\n",
       "    <tr>\n",
       "      <td id=\"T_541e2_row9_col0\" class=\"data row9 col0\" >Std. Error of Kurtosis</td>\n",
       "      <td id=\"T_541e2_row9_col1\" class=\"data row9 col1\" >0.692820</td>\n",
       "    </tr>\n",
       "    <tr>\n",
       "      <td id=\"T_541e2_row10_col0\" class=\"data row10 col0\" >Minimum</td>\n",
       "      <td id=\"T_541e2_row10_col1\" class=\"data row10 col1\" >4</td>\n",
       "    </tr>\n",
       "    <tr>\n",
       "      <td id=\"T_541e2_row11_col0\" class=\"data row11 col0\" >Maximum</td>\n",
       "      <td id=\"T_541e2_row11_col1\" class=\"data row11 col1\" >15</td>\n",
       "    </tr>\n",
       "    <tr>\n",
       "      <td id=\"T_541e2_row12_col0\" class=\"data row12 col0\" >25th Percentile</td>\n",
       "      <td id=\"T_541e2_row12_col1\" class=\"data row12 col1\" >9.000000</td>\n",
       "    </tr>\n",
       "    <tr>\n",
       "      <td id=\"T_541e2_row13_col0\" class=\"data row13 col0\" >50th Percentile</td>\n",
       "      <td id=\"T_541e2_row13_col1\" class=\"data row13 col1\" >10.000000</td>\n",
       "    </tr>\n",
       "    <tr>\n",
       "      <td id=\"T_541e2_row14_col0\" class=\"data row14 col0\" >75th Percentile</td>\n",
       "      <td id=\"T_541e2_row14_col1\" class=\"data row14 col1\" >11.000000</td>\n",
       "    </tr>\n",
       "    <tr>\n",
       "      <td id=\"T_541e2_row15_col0\" class=\"data row15 col0\" >90th Percentile</td>\n",
       "      <td id=\"T_541e2_row15_col1\" class=\"data row15 col1\" >13.000000</td>\n",
       "    </tr>\n",
       "    <tr>\n",
       "      <td id=\"T_541e2_row16_col0\" class=\"data row16 col0\" >95th Percentile</td>\n",
       "      <td id=\"T_541e2_row16_col1\" class=\"data row16 col1\" >13.000000</td>\n",
       "    </tr>\n",
       "  </tbody>\n",
       "</table>\n"
      ],
      "text/plain": [
       "<pandas.io.formats.style.Styler at 0x204f9558170>"
      ]
     },
     "execution_count": 12,
     "metadata": {},
     "output_type": "execute_result"
    }
   ],
   "source": [
    "descriptive_df_male.style.hide(axis=\"index\")\n"
   ]
  },
  {
   "cell_type": "markdown",
   "id": "cd58c521-6849-4af9-bd53-dc46208a3f44",
   "metadata": {},
   "source": [
    "# 4. 95% confidence interval for the population mean of each gender category & 95% confidence interval for the difference between the means of the two populations"
   ]
  },
  {
   "cell_type": "code",
   "execution_count": 22,
   "id": "e498f911-2318-47e4-a2f6-bf6db2e605b5",
   "metadata": {},
   "outputs": [
    {
     "name": "stdout",
     "output_type": "stream",
     "text": [
      "95% Confidence Interval for Males: (np.float64(9.215443256712721), np.float64(10.42455674328728))\n",
      "95% Confidence Interval for Females: (np.float64(9.201660651026579), np.float64(10.19833934897342))\n",
      "95% Confidence Interval for the Difference in Means: (np.float64(-0.6634736514965714), np.float64(0.9034736514965734))\n"
     ]
    }
   ],
   "source": [
    "mean_male = np.mean(data_male)\n",
    "std_male = np.std(data_male, ddof=1)  \n",
    "n_male = len(data_male)\n",
    "\n",
    "mean_female = np.mean(data_female)\n",
    "std_female = np.std(data_female, ddof=1)\n",
    "n_female = len(data_female)\n",
    "\n",
    "df = n_male + n_female - 2  \n",
    "alpha = 0.05\n",
    "t_critical = stats.t.ppf(1 - alpha/2, df)\n",
    "\n",
    "se_male = std_male / np.sqrt(n_male)\n",
    "se_female = std_female / np.sqrt(n_female)\n",
    "\n",
    "ci_male = (mean_male - t_critical * se_male, mean_male + t_critical * se_male)\n",
    "ci_female = (mean_female - t_critical * se_female, mean_female + t_critical * se_female)\n",
    "\n",
    "mean_diff = mean_male - mean_female\n",
    "se_diff = np.sqrt((std_male**2/n_male) + (std_female**2/n_female))\n",
    "ci_diff = (mean_diff - t_critical * se_diff, mean_diff + t_critical * se_diff)\n",
    "\n",
    "print(f\"95% Confidence Interval for Males: {ci_male}\")\n",
    "print(f\"95% Confidence Interval for Females: {ci_female}\")\n",
    "print(f\"95% Confidence Interval for the Difference in Means: {ci_diff}\")"
   ]
  },
  {
   "cell_type": "markdown",
   "id": "89738a0e-3fe5-4eaa-8779-01f495d49beb",
   "metadata": {},
   "source": [
    "# 5 Discussion\n",
    "Although the current data set provides valuable initial insights, having larger sample size will solidify and generalize the phone usage between the male and female. With larger sample size, it will yield a more accurate conclusion about the study.\n",
    "\n"
   ]
  },
  {
   "cell_type": "code",
   "execution_count": 25,
   "id": "6773fdd2-5225-41b3-8327-c92d4917deca",
   "metadata": {},
   "outputs": [
    {
     "name": "stdout",
     "output_type": "stream",
     "text": [
      "Normality Test (Shapiro-Wilk):\n",
      "Male: W = 0.9746539794869001, p-value = 0.3539889622001458\n",
      "Female: W = 0.9638767847871548, p-value = 0.12919719507959687\n",
      "\n",
      "Levene's Test for Homogeneity of Variances:\n",
      "Statistic = 0.6943460393935098, p-value = 0.4067163398636352\n",
      "\n",
      "Two Independent Samples t-test:\n",
      "t-statistic = 0.30394907866566184, p-value = 0.7618111039906375\n"
     ]
    },
    {
     "data": {
      "image/png": "[encoded data removed]",
      "text/plain": [
       "<Figure size 1200x600 with 1 Axes>"
      ]
     },
     "metadata": {},
     "output_type": "display_data"
    }
   ],
   "source": [
    "import matplotlib.pyplot as plt\n",
    "import seaborn as sns\n",
    "\n",
    "shapiro_male = stats.shapiro(data_male)\n",
    "shapiro_female = stats.shapiro(data_female)\n",
    "\n",
    "print(\"Normality Test (Shapiro-Wilk):\")\n",
    "print(f\"Male: W = {shapiro_male.statistic}, p-value = {shapiro_male.pvalue}\")\n",
    "print(f\"Female: W = {shapiro_female.statistic}, p-value = {shapiro_female.pvalue}\")\n",
    "\n",
    "print(\"\\nLevene's Test for Homogeneity of Variances:\")\n",
    "print(f\"Statistic = {levene_stat}, p-value = {levene_p_val}\")\n",
    "\n",
    "print(\"\\nTwo Independent Samples t-test:\")\n",
    "print(f\"t-statistic = {t_stat}, p-value = {p_val}\")\n",
    "\n",
    "\n",
    "plt.figure(figsize=(12, 6))\n",
    "sns.histplot(data_male, kde=True, color='blue', label='Male', stat='density', bins=15, alpha=0.6)\n",
    "sns.histplot(data_female, kde=True, color='red', label='Female', stat='density', bins=15, alpha=0.6)\n",
    "plt.title('Distribution of hours spent talking on the cellphone by Gender')\n",
    "plt.xlabel('Hours Spent on Phone')\n",
    "plt.ylabel('Density')\n",
    "plt.legend()\n",
    "plt.show()\n"
   ]
  },
  {
   "cell_type": "code",
   "execution_count": null,
   "id": "da2edd1e-1a7e-4773-b17f-60b702901b2a",
   "metadata": {},
   "outputs": [],
   "source": []
  }
 ],
 "metadata": {
  "kernelspec": {
   "display_name": "Python 3 (ipykernel)",
   "language": "python",
   "name": "python3"
  },
  "language_info": {
   "codemirror_mode": {
    "name": "ipython",
    "version": 3
   },
   "file_extension": ".py",
   "mimetype": "text/x-python",
   "name": "python",
   "nbconvert_exporter": "python",
   "pygments_lexer": "ipython3",
   "version": "3.12.5"
  }
 },
 "nbformat": 4,
 "nbformat_minor": 5
}
