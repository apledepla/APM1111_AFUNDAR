{
 "cells": [
  {
   "cell_type": "code",
   "execution_count": 11,
   "id": "e20288e8-471b-4aea-a7d1-30812275681d",
   "metadata": {},
   "outputs": [
    {
     "data": {
      "text/html": [
       "<div>\n",
       "<style scoped>\n",
       "    .dataframe tbody tr th:only-of-type {\n",
       "        vertical-align: middle;\n",
       "    }\n",
       "\n",
       "    .dataframe tbody tr th {\n",
       "        vertical-align: top;\n",
       "    }\n",
       "\n",
       "    .dataframe thead th {\n",
       "        text-align: right;\n",
       "    }\n",
       "</style>\n",
       "<table border=\"1\" class=\"dataframe\">\n",
       "  <thead>\n",
       "    <tr style=\"text-align: right;\">\n",
       "      <th></th>\n",
       "      <th>weight</th>\n",
       "      <th>group</th>\n",
       "    </tr>\n",
       "  </thead>\n",
       "  <tbody>\n",
       "    <tr>\n",
       "      <th>0</th>\n",
       "      <td>4.17</td>\n",
       "      <td>ctrl</td>\n",
       "    </tr>\n",
       "    <tr>\n",
       "      <th>1</th>\n",
       "      <td>5.58</td>\n",
       "      <td>ctrl</td>\n",
       "    </tr>\n",
       "    <tr>\n",
       "      <th>2</th>\n",
       "      <td>5.18</td>\n",
       "      <td>ctrl</td>\n",
       "    </tr>\n",
       "    <tr>\n",
       "      <th>3</th>\n",
       "      <td>6.11</td>\n",
       "      <td>ctrl</td>\n",
       "    </tr>\n",
       "    <tr>\n",
       "      <th>4</th>\n",
       "      <td>4.50</td>\n",
       "      <td>ctrl</td>\n",
       "    </tr>\n",
       "  </tbody>\n",
       "</table>\n",
       "</div>"
      ],
      "text/plain": [
       "   weight group\n",
       "0    4.17  ctrl\n",
       "1    5.58  ctrl\n",
       "2    5.18  ctrl\n",
       "3    6.11  ctrl\n",
       "4    4.50  ctrl"
      ]
     },
     "execution_count": 11,
     "metadata": {},
     "output_type": "execute_result"
    }
   ],
   "source": [
    "import pandas as pd\n",
    "import numpy as np\n",
    "import matplotlib.pyplot as plt\n",
    "import seaborn as sns\n",
    "from scipy import stats\n",
    "\n",
    "import rpy2.robjects as robjects\n",
    "from rpy2.robjects import pandas2ri\n",
    "\n",
    "pandas2ri.activate()\n",
    "\n",
    "robjects.r('data(PlantGrowth)')\n",
    "plant_growth_r_df = robjects.r('as.data.frame(PlantGrowth)')\n",
    "\n",
    "plant_growth_df = pd.DataFrame(plant_growth_r_df)\n",
    "\n",
    "plant_growth_df = pd.DataFrame({'weight': weights, 'group': groups})\n",
    "\n",
    "plant_growth_df.head()\n",
    "\n"
   ]
  },
  {
   "cell_type": "markdown",
   "id": "3da58e60-e11a-412d-a4d3-a5fabe02f2ff",
   "metadata": {},
   "source": [
    "# Assumption 4"
   ]
  },
  {
   "cell_type": "code",
   "execution_count": 8,
   "id": "bff0b0ac-a74b-47b4-a279-15d305d4365a",
   "metadata": {},
   "outputs": [
    {
     "data": {
      "image/png": "[encoded data removed]",
      "text/plain": [
       "<Figure size 640x480 with 1 Axes>"
      ]
     },
     "metadata": {},
     "output_type": "display_data"
    }
   ],
   "source": [
    "sns.boxplot(x='group', y='weight', data=plant_growth_df)\n",
    "plt.title('Plant Weights by Trt')\n",
    "plt.show()"
   ]
  },
  {
   "cell_type": "markdown",
   "id": "d17d8ffb-1fb3-408d-8e68-84c5e7be5cbc",
   "metadata": {},
   "source": [
    "# Assumption 5"
   ]
  },
  {
   "cell_type": "code",
   "execution_count": 22,
   "id": "5e6dba82-09b7-4a48-9bd5-3c3910cae494",
   "metadata": {},
   "outputs": [
    {
     "name": "stdout",
     "output_type": "stream",
     "text": [
      "Descriptive Statistics:\n"
     ]
    },
    {
     "data": {
      "text/html": [
       "<div>\n",
       "<style scoped>\n",
       "    .dataframe tbody tr th:only-of-type {\n",
       "        vertical-align: middle;\n",
       "    }\n",
       "\n",
       "    .dataframe tbody tr th {\n",
       "        vertical-align: top;\n",
       "    }\n",
       "\n",
       "    .dataframe thead th {\n",
       "        text-align: right;\n",
       "    }\n",
       "</style>\n",
       "<table border=\"1\" class=\"dataframe\">\n",
       "  <thead>\n",
       "    <tr style=\"text-align: right;\">\n",
       "      <th></th>\n",
       "      <th>ctrl</th>\n",
       "      <th>trt1</th>\n",
       "      <th>trt2</th>\n",
       "    </tr>\n",
       "  </thead>\n",
       "  <tbody>\n",
       "    <tr>\n",
       "      <th>Valid</th>\n",
       "      <td>10</td>\n",
       "      <td>10</td>\n",
       "      <td>10</td>\n",
       "    </tr>\n",
       "    <tr>\n",
       "      <th>Mode</th>\n",
       "      <td>[4.17, 4.5, 4.53, 4.61, 5.14, 5.17, 5.18, 5.33...</td>\n",
       "      <td>[4.2, 4.32, 4.75, 4.88, 5.16, 5.18, 5.27, 5.35...</td>\n",
       "      <td>[5.0]</td>\n",
       "    </tr>\n",
       "    <tr>\n",
       "      <th>Median</th>\n",
       "      <td>5.155</td>\n",
       "      <td>5.17</td>\n",
       "      <td>5.175</td>\n",
       "    </tr>\n",
       "    <tr>\n",
       "      <th>Mean</th>\n",
       "      <td>5.032</td>\n",
       "      <td>5.065</td>\n",
       "      <td>5.144</td>\n",
       "    </tr>\n",
       "    <tr>\n",
       "      <th>Std. Deviation</th>\n",
       "      <td>0.583091</td>\n",
       "      <td>0.552213</td>\n",
       "      <td>0.231862</td>\n",
       "    </tr>\n",
       "    <tr>\n",
       "      <th>Variance</th>\n",
       "      <td>0.339996</td>\n",
       "      <td>0.304939</td>\n",
       "      <td>0.05376</td>\n",
       "    </tr>\n",
       "    <tr>\n",
       "      <th>Skewness</th>\n",
       "      <td>0.320975</td>\n",
       "      <td>-0.006273</td>\n",
       "      <td>0.184911</td>\n",
       "    </tr>\n",
       "    <tr>\n",
       "      <th>Std. Error of Skewness</th>\n",
       "      <td>0.687043</td>\n",
       "      <td>0.687043</td>\n",
       "      <td>0.687043</td>\n",
       "    </tr>\n",
       "    <tr>\n",
       "      <th>Kurtosis</th>\n",
       "      <td>-0.229125</td>\n",
       "      <td>0.114014</td>\n",
       "      <td>0.473919</td>\n",
       "    </tr>\n",
       "    <tr>\n",
       "      <th>Std. Error of Kurtosis</th>\n",
       "      <td>1.549193</td>\n",
       "      <td>1.549193</td>\n",
       "      <td>1.549193</td>\n",
       "    </tr>\n",
       "    <tr>\n",
       "      <th>Minimum</th>\n",
       "      <td>4.17</td>\n",
       "      <td>4.2</td>\n",
       "      <td>4.75</td>\n",
       "    </tr>\n",
       "    <tr>\n",
       "      <th>Maximum</th>\n",
       "      <td>6.11</td>\n",
       "      <td>6.06</td>\n",
       "      <td>5.58</td>\n",
       "    </tr>\n",
       "    <tr>\n",
       "      <th>25th Percentile</th>\n",
       "      <td>4.55</td>\n",
       "      <td>4.7825</td>\n",
       "      <td>5.0</td>\n",
       "    </tr>\n",
       "    <tr>\n",
       "      <th>50th Percentile</th>\n",
       "      <td>5.155</td>\n",
       "      <td>5.17</td>\n",
       "      <td>5.175</td>\n",
       "    </tr>\n",
       "    <tr>\n",
       "      <th>90th Percentile</th>\n",
       "      <td>5.633</td>\n",
       "      <td>5.538</td>\n",
       "      <td>5.346</td>\n",
       "    </tr>\n",
       "  </tbody>\n",
       "</table>\n",
       "</div>"
      ],
      "text/plain": [
       "                                                                     ctrl  \\\n",
       "Valid                                                                  10   \n",
       "Mode                    [4.17, 4.5, 4.53, 4.61, 5.14, 5.17, 5.18, 5.33...   \n",
       "Median                                                              5.155   \n",
       "Mean                                                                5.032   \n",
       "Std. Deviation                                                   0.583091   \n",
       "Variance                                                         0.339996   \n",
       "Skewness                                                         0.320975   \n",
       "Std. Error of Skewness                                           0.687043   \n",
       "Kurtosis                                                        -0.229125   \n",
       "Std. Error of Kurtosis                                           1.549193   \n",
       "Minimum                                                              4.17   \n",
       "Maximum                                                              6.11   \n",
       "25th Percentile                                                      4.55   \n",
       "50th Percentile                                                     5.155   \n",
       "90th Percentile                                                     5.633   \n",
       "\n",
       "                                                                     trt1  \\\n",
       "Valid                                                                  10   \n",
       "Mode                    [4.2, 4.32, 4.75, 4.88, 5.16, 5.18, 5.27, 5.35...   \n",
       "Median                                                               5.17   \n",
       "Mean                                                                5.065   \n",
       "Std. Deviation                                                   0.552213   \n",
       "Variance                                                         0.304939   \n",
       "Skewness                                                        -0.006273   \n",
       "Std. Error of Skewness                                           0.687043   \n",
       "Kurtosis                                                         0.114014   \n",
       "Std. Error of Kurtosis                                           1.549193   \n",
       "Minimum                                                               4.2   \n",
       "Maximum                                                              6.06   \n",
       "25th Percentile                                                    4.7825   \n",
       "50th Percentile                                                      5.17   \n",
       "90th Percentile                                                     5.538   \n",
       "\n",
       "                            trt2  \n",
       "Valid                         10  \n",
       "Mode                       [5.0]  \n",
       "Median                     5.175  \n",
       "Mean                       5.144  \n",
       "Std. Deviation          0.231862  \n",
       "Variance                 0.05376  \n",
       "Skewness                0.184911  \n",
       "Std. Error of Skewness  0.687043  \n",
       "Kurtosis                0.473919  \n",
       "Std. Error of Kurtosis  1.549193  \n",
       "Minimum                     4.75  \n",
       "Maximum                     5.58  \n",
       "25th Percentile              5.0  \n",
       "50th Percentile            5.175  \n",
       "90th Percentile            5.346  "
      ]
     },
     "metadata": {},
     "output_type": "display_data"
    },
    {
     "name": "stdout",
     "output_type": "stream",
     "text": [
      "\n",
      "\n",
      "Normality Test Results (Shapiro-Wilk p-values):\n",
      "ctrl: p-value = 0.7475\n",
      "trt1: p-value = 0.8235\n",
      "trt2: p-value = 0.8985\n"
     ]
    }
   ],
   "source": [
    "from IPython.display import display\n",
    "\n",
    "descriptive_measures = {}\n",
    "for group_name, group_data in plant_growth_df.groupby('group')['weight']:\n",
    "    n = group_data.count()  \n",
    "    descriptive_measures[group_name] = {\n",
    "        'Valid': n,\n",
    "        'Mode': group_data.mode().tolist(),\n",
    "        'Median': group_data.median(),\n",
    "        'Mean': group_data.mean(),\n",
    "        'Std. Deviation': group_data.std(),\n",
    "        'Variance': group_data.var(),\n",
    "        'Skewness': group_data.skew(),\n",
    "        'Std. Error of Skewness': np.sqrt(((6)*(n)*(n-1))/((n-2)*(n+1)*(n+3))),\n",
    "        'Kurtosis': group_data.kurt(),\n",
    "        'Std. Error of Kurtosis': np.sqrt(24 / n),\n",
    "        'Minimum': group_data.min(),\n",
    "        'Maximum': group_data.max(),\n",
    "        '25th Percentile': group_data.quantile(0.25),\n",
    "        '50th Percentile': group_data.quantile(0.50),\n",
    "        '90th Percentile': group_data.quantile(0.90),\n",
    "    }\n",
    "\n",
    "descriptive_stats_df = pd.DataFrame(descriptive_measures)\n",
    "\n",
    "\n",
    "print(\"Descriptive Statistics:\")\n",
    "display(descriptive_stats_df)\n",
    "\n",
    "\n",
    "normality_results = {}\n",
    "for group in plant_growth_df['group'].unique():\n",
    "    stat, p = stats.shapiro(plant_growth_df[plant_growth_df['group'] == group]['weight'])\n",
    "    normality_results[group] = p \n",
    "\n",
    "print(\"\\n\\nNormality Test Results (Shapiro-Wilk p-values):\")\n",
    "for group, p_value in normality_results.items():\n",
    "    print(f\"{group}: p-value = {p_value:.4f}\")"
   ]
  },
  {
   "cell_type": "markdown",
   "id": "a9b6576a-e7fd-4423-b003-93cdc3baac86",
   "metadata": {},
   "source": [
    "# Assumption 6"
   ]
  },
  {
   "cell_type": "code",
   "execution_count": 18,
   "id": "eaf04ec1-e8a5-45d7-89f3-4f0e902e3b3e",
   "metadata": {},
   "outputs": [
    {
     "name": "stdout",
     "output_type": "stream",
     "text": [
      "\n",
      "Homogeneity of Variances (Levene's test):\n",
      "Levene Statistic: 2.0301, p-value: 0.1509\n"
     ]
    }
   ],
   "source": [
    "stat, p_value = stats.levene(\n",
    "    plant_growth_df[plant_growth_df['group'] == 'ctrl']['weight'],\n",
    "    plant_growth_df[plant_growth_df['group'] == 'trt1']['weight'],\n",
    "    plant_growth_df[plant_growth_df['group'] == 'trt2']['weight']\n",
    ")\n",
    "\n",
    "print(\"\\nHomogeneity of Variances (Levene's test):\")\n",
    "print(f\"Levene Statistic: {stat:.4f}, p-value: {p_value:.4f}\")"
   ]
  },
  {
   "cell_type": "markdown",
   "id": "0b8b016a-be73-4f59-a048-0dd5443391b7",
   "metadata": {},
   "source": [
    "# Computations"
   ]
  },
  {
   "cell_type": "code",
   "execution_count": 19,
   "id": "f95e2e92-2bfd-490e-beb8-3f1c3092c801",
   "metadata": {},
   "outputs": [
    {
     "name": "stdout",
     "output_type": "stream",
     "text": [
      "\n",
      "One-Way ANOVA Results:\n",
      "F-statistic: 0.1422, p-value: 0.8681\n"
     ]
    }
   ],
   "source": [
    "anova_results = stats.f_oneway(\n",
    "    plant_growth_df[plant_growth_df['group'] == 'ctrl']['weight'],\n",
    "    plant_growth_df[plant_growth_df['group'] == 'trt1']['weight'],\n",
    "    plant_growth_df[plant_growth_df['group'] == 'trt2']['weight']\n",
    ")\n",
    "\n",
    "print(\"\\nOne-Way ANOVA Results:\")\n",
    "print(f\"F-statistic: {anova_results.statistic:.4f}, p-value: {anova_results.pvalue:.4f}\")"
   ]
  },
  {
   "cell_type": "code",
   "execution_count": null,
   "id": "140814e9-7e31-4256-9378-12f9253323a3",
   "metadata": {},
   "outputs": [],
   "source": []
  }
 ],
 "metadata": {
  "kernelspec": {
   "display_name": "Python 3 (ipykernel)",
   "language": "python",
   "name": "python3"
  },
  "language_info": {
   "codemirror_mode": {
    "name": "ipython",
    "version": 3
   },
   "file_extension": ".py",
   "mimetype": "text/x-python",
   "name": "python",
   "nbconvert_exporter": "python",
   "pygments_lexer": "ipython3",
   "version": "3.12.5"
  }
 },
 "nbformat": 4,
 "nbformat_minor": 5
}
