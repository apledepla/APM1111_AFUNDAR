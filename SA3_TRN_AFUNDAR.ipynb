{
 "cells": [
  {
   "cell_type": "code",
   "execution_count": 2,
   "id": "055931b4-b2fd-4f45-b0f2-94d90c9db9a8",
   "metadata": {},
   "outputs": [
    {
     "data": {
      "text/html": [
       "<div>\n",
       "<style scoped>\n",
       "    .dataframe tbody tr th:only-of-type {\n",
       "        vertical-align: middle;\n",
       "    }\n",
       "\n",
       "    .dataframe tbody tr th {\n",
       "        vertical-align: top;\n",
       "    }\n",
       "\n",
       "    .dataframe thead th {\n",
       "        text-align: right;\n",
       "    }\n",
       "</style>\n",
       "<table border=\"1\" class=\"dataframe\">\n",
       "  <thead>\n",
       "    <tr style=\"text-align: right;\">\n",
       "      <th></th>\n",
       "      <th>AD_Status</th>\n",
       "      <th>Treatment</th>\n",
       "      <th>Training</th>\n",
       "      <th>Memory</th>\n",
       "    </tr>\n",
       "  </thead>\n",
       "  <tbody>\n",
       "    <tr>\n",
       "      <th>0</th>\n",
       "      <td>1</td>\n",
       "      <td>1</td>\n",
       "      <td>12</td>\n",
       "      <td>10</td>\n",
       "    </tr>\n",
       "    <tr>\n",
       "      <th>1</th>\n",
       "      <td>1</td>\n",
       "      <td>1</td>\n",
       "      <td>15</td>\n",
       "      <td>12</td>\n",
       "    </tr>\n",
       "    <tr>\n",
       "      <th>2</th>\n",
       "      <td>1</td>\n",
       "      <td>1</td>\n",
       "      <td>13</td>\n",
       "      <td>13</td>\n",
       "    </tr>\n",
       "    <tr>\n",
       "      <th>3</th>\n",
       "      <td>1</td>\n",
       "      <td>1</td>\n",
       "      <td>12</td>\n",
       "      <td>10</td>\n",
       "    </tr>\n",
       "    <tr>\n",
       "      <th>4</th>\n",
       "      <td>1</td>\n",
       "      <td>1</td>\n",
       "      <td>14</td>\n",
       "      <td>13</td>\n",
       "    </tr>\n",
       "  </tbody>\n",
       "</table>\n",
       "</div>"
      ],
      "text/plain": [
       "   AD_Status  Treatment  Training  Memory\n",
       "0          1          1        12      10\n",
       "1          1          1        15      12\n",
       "2          1          1        13      13\n",
       "3          1          1        12      10\n",
       "4          1          1        14      13"
      ]
     },
     "execution_count": 2,
     "metadata": {},
     "output_type": "execute_result"
    }
   ],
   "source": [
    "import pandas as pd\n",
    "from scipy.stats import shapiro\n",
    "\n",
    "\n",
    "df=pd.read_csv('Alzheimers Mice Data.csv')\n",
    "\n",
    "df.head()\n"
   ]
  },
  {
   "cell_type": "markdown",
   "id": "831cd7d1-179f-4781-b63e-e0788f5c2573",
   "metadata": {},
   "source": [
    "# Assumption 3"
   ]
  },
  {
   "cell_type": "code",
   "execution_count": 23,
   "id": "1d71fd56-23c4-4dbc-a7d2-c7cfed2cd6d6",
   "metadata": {},
   "outputs": [
    {
     "data": {
      "image/png": "[encoded data removed]",
      "text/plain": [
       "<Figure size 1000x600 with 1 Axes>"
      ]
     },
     "metadata": {},
     "output_type": "display_data"
    }
   ],
   "source": [
    "import matplotlib.pyplot as plt\n",
    "import seaborn as sns\n",
    "\n",
    "\n",
    "plt.figure(figsize=(10, 6))\n",
    "\n",
    "sns.boxplot(x='AD_Status', y='Training', hue='Treatment', data=df, palette=\"Set2\", dodge=True)\n",
    "\n",
    "plt.title(\"Training error based on AD Status and Treatment\", fontsize=14)\n",
    "plt.xlabel(\"AD_Status\", fontsize=12)\n",
    "plt.ylabel(\"Training\", fontsize=12)\n",
    "plt.legend(title=\"Treatment;\", bbox_to_anchor=(1.05, 1), loc='upper left')\n",
    "plt.tight_layout()\n",
    "plt.show()"
   ]
  },
  {
   "cell_type": "markdown",
   "id": "f67f7b03-b51c-4406-95b6-ded7cb1b4921",
   "metadata": {},
   "source": [
    "# Normality Test\n"
   ]
  },
  {
   "cell_type": "code",
   "execution_count": 3,
   "id": "f73bc33b-98f2-4de3-89c0-69a3873804c9",
   "metadata": {},
   "outputs": [
    {
     "data": {
      "text/plain": [
       "{(1, 1): {'Statistic': 0.9020198201298117, 'p-value': 0.42114965351611855},\n",
       " (1, 2): {'Statistic': 0.866835872224429, 'p-value': 0.2538464637612434},\n",
       " (2, 1): {'Statistic': 0.9020198201298121, 'p-value': 0.42114965351612},\n",
       " (2, 2): {'Statistic': 0.8939244932314427, 'p-value': 0.3772224660924305},\n",
       " (3, 1): {'Statistic': 0.9787161500642191, 'p-value': 0.9276364233495382},\n",
       " (3, 2): {'Statistic': 0.9787161500642191, 'p-value': 0.9276364233495382},\n",
       " (4, 1): {'Statistic': 0.9608589992013118, 'p-value': 0.8139521277236892},\n",
       " (4, 2): {'Statistic': 0.9608589992013118, 'p-value': 0.8139521277236892}}"
      ]
     },
     "metadata": {},
     "output_type": "display_data"
    }
   ],
   "source": [
    "from IPython.display import display\n",
    "\n",
    "\n",
    "normality ={}\n",
    "for i in df['Treatment'].unique():\n",
    "    for j in df['AD_Status'].unique():\n",
    "        group_normal=df[(df['Treatment'] == i) & (df['AD_Status'] == j)]['Training']\n",
    "        stat, p_value = shapiro(group_normal)\n",
    "        normality[(int(i), int(j))] = {'Statistic': float(stat), 'p-value': float(p_value)}\n",
    "\n",
    "display(normality)"
   ]
  },
  {
   "cell_type": "markdown",
   "id": "3b867e51-36fc-4d3c-b04c-6d856b264aa3",
   "metadata": {},
   "source": [
    "# Levene's Test"
   ]
  },
  {
   "cell_type": "code",
   "execution_count": 5,
   "id": "240c3baf-1c5e-4b89-b3b4-9bea8fcb1370",
   "metadata": {},
   "outputs": [
    {
     "name": "stdout",
     "output_type": "stream",
     "text": [
      "Statistic: 0.43460764587525136 p-value: 0.87305057808911\n"
     ]
    }
   ],
   "source": [
    "from scipy.stats import levene\n",
    "\n",
    "\n",
    "group_levene = [df[(df['Treatment'] == i) & (df['AD_Status'] == j)]['Training']\n",
    "          for i in df['Treatment'].unique() for j in df['AD_Status'].unique()]\n",
    "\n",
    "levene_stat, levene_p = levene(*group_levene)\n",
    "float(levene_stat), float(levene_p)\n",
    "print(f\"Statistic: {levene_stat} p-value: {levene_p}\")"
   ]
  },
  {
   "cell_type": "markdown",
   "id": "193025d2-c0d8-4bc4-b614-9f89b24bd3f9",
   "metadata": {},
   "source": [
    "# ANOVA Test"
   ]
  },
  {
   "cell_type": "code",
   "execution_count": 8,
   "id": "02ad6154-5134-4a7e-9836-3a8110eca750",
   "metadata": {},
   "outputs": [
    {
     "data": {
      "text/html": [
       "<div>\n",
       "<style scoped>\n",
       "    .dataframe tbody tr th:only-of-type {\n",
       "        vertical-align: middle;\n",
       "    }\n",
       "\n",
       "    .dataframe tbody tr th {\n",
       "        vertical-align: top;\n",
       "    }\n",
       "\n",
       "    .dataframe thead th {\n",
       "        text-align: right;\n",
       "    }\n",
       "</style>\n",
       "<table border=\"1\" class=\"dataframe\">\n",
       "  <thead>\n",
       "    <tr style=\"text-align: right;\">\n",
       "      <th></th>\n",
       "      <th>sum_sq</th>\n",
       "      <th>df</th>\n",
       "      <th>F</th>\n",
       "      <th>PR(&gt;F)</th>\n",
       "    </tr>\n",
       "  </thead>\n",
       "  <tbody>\n",
       "    <tr>\n",
       "      <th>C(AD_Status)</th>\n",
       "      <td>3.025</td>\n",
       "      <td>1.0</td>\n",
       "      <td>1.216080</td>\n",
       "      <td>0.278356</td>\n",
       "    </tr>\n",
       "    <tr>\n",
       "      <th>C(Treatment)</th>\n",
       "      <td>28.275</td>\n",
       "      <td>3.0</td>\n",
       "      <td>3.788945</td>\n",
       "      <td>0.019678</td>\n",
       "    </tr>\n",
       "    <tr>\n",
       "      <th>C(AD_Status):C(Treatment)</th>\n",
       "      <td>9.075</td>\n",
       "      <td>3.0</td>\n",
       "      <td>1.216080</td>\n",
       "      <td>0.319771</td>\n",
       "    </tr>\n",
       "    <tr>\n",
       "      <th>Residual</th>\n",
       "      <td>79.600</td>\n",
       "      <td>32.0</td>\n",
       "      <td>NaN</td>\n",
       "      <td>NaN</td>\n",
       "    </tr>\n",
       "  </tbody>\n",
       "</table>\n",
       "</div>"
      ],
      "text/plain": [
       "                           sum_sq    df         F    PR(>F)\n",
       "C(AD_Status)                3.025   1.0  1.216080  0.278356\n",
       "C(Treatment)               28.275   3.0  3.788945  0.019678\n",
       "C(AD_Status):C(Treatment)   9.075   3.0  1.216080  0.319771\n",
       "Residual                   79.600  32.0       NaN       NaN"
      ]
     },
     "execution_count": 8,
     "metadata": {},
     "output_type": "execute_result"
    }
   ],
   "source": [
    "import statsmodels.api as sm \n",
    "from statsmodels.formula.api import ols \n",
    "model = ols('Training ~ C(AD_Status) * C(Treatment)', data=df).fit()\n",
    "anova_table = sm.stats.anova_lm(model, typ=2)\n",
    "\n",
    "anova_table"
   ]
  },
  {
   "cell_type": "markdown",
   "id": "3aa73e2f-c974-493e-a206-fae70f249cb8",
   "metadata": {},
   "source": [
    "# Post Hoc"
   ]
  },
  {
   "cell_type": "code",
   "execution_count": 18,
   "id": "ad400c65-cf1f-45ca-881f-fd2330b11c1a",
   "metadata": {},
   "outputs": [
    {
     "data": {
      "text/html": [
       "<table class=\"simpletable\">\n",
       "<caption>Multiple Comparison of Means - Tukey HSD, FWER=0.05</caption>\n",
       "<tr>\n",
       "  <th>group1</th> <th>group2</th> <th>meandiff</th>  <th>p-adj</th>  <th>lower</th>   <th>upper</th>  <th>reject</th>\n",
       "</tr>\n",
       "<tr>\n",
       "     <td>1</td>      <td>2</td>      <td>1.5</td>    <td>0.172</td> <td>-0.4223</td> <td>3.4223</td>   <td>False</td>\n",
       "</tr>\n",
       "<tr>\n",
       "     <td>1</td>      <td>3</td>      <td>0.9</td>   <td>0.5931</td> <td>-1.0223</td> <td>2.8223</td>   <td>False</td>\n",
       "</tr>\n",
       "<tr>\n",
       "     <td>1</td>      <td>4</td>     <td>-0.7</td>   <td>0.7612</td> <td>-2.6223</td> <td>1.2223</td>   <td>False</td>\n",
       "</tr>\n",
       "<tr>\n",
       "     <td>2</td>      <td>3</td>     <td>-0.6</td>   <td>0.8347</td> <td>-2.5223</td> <td>1.3223</td>   <td>False</td>\n",
       "</tr>\n",
       "<tr>\n",
       "     <td>2</td>      <td>4</td>     <td>-2.2</td>   <td>0.0196</td> <td>-4.1223</td> <td>-0.2777</td>  <td>True</td> \n",
       "</tr>\n",
       "<tr>\n",
       "     <td>3</td>      <td>4</td>     <td>-1.6</td>   <td>0.1314</td> <td>-3.5223</td> <td>0.3223</td>   <td>False</td>\n",
       "</tr>\n",
       "</table>"
      ],
      "text/latex": [
       "\\begin{center}\n",
       "\\begin{tabular}{ccccccc}\n",
       "\\toprule\n",
       "\\textbf{group1} & \\textbf{group2} & \\textbf{meandiff} & \\textbf{p-adj} & \\textbf{lower} & \\textbf{upper} & \\textbf{reject}  \\\\\n",
       "\\midrule\n",
       "       1        &        2        &        1.5        &     0.172      &    -0.4223     &     3.4223     &      False       \\\\\n",
       "       1        &        3        &        0.9        &     0.5931     &    -1.0223     &     2.8223     &      False       \\\\\n",
       "       1        &        4        &        -0.7       &     0.7612     &    -2.6223     &     1.2223     &      False       \\\\\n",
       "       2        &        3        &        -0.6       &     0.8347     &    -2.5223     &     1.3223     &      False       \\\\\n",
       "       2        &        4        &        -2.2       &     0.0196     &    -4.1223     &    -0.2777     &       True       \\\\\n",
       "       3        &        4        &        -1.6       &     0.1314     &    -3.5223     &     0.3223     &      False       \\\\\n",
       "\\bottomrule\n",
       "\\end{tabular}\n",
       "%\\caption{Multiple Comparison of Means - Tukey HSD, FWER=0.05}\n",
       "\\end{center}"
      ],
      "text/plain": [
       "<class 'statsmodels.iolib.table.SimpleTable'>"
      ]
     },
     "execution_count": 18,
     "metadata": {},
     "output_type": "execute_result"
    }
   ],
   "source": [
    "from statsmodels.stats.multicomp import pairwise_tukeyhsd\n",
    "\n",
    "\n",
    "tukey_results = pairwise_tukeyhsd(df['Training'], df['Treatment'])\n",
    "tukey_results.summary()"
   ]
  }
 ],
 "metadata": {
  "kernelspec": {
   "display_name": "Python 3 (ipykernel)",
   "language": "python",
   "name": "python3"
  },
  "language_info": {
   "codemirror_mode": {
    "name": "ipython",
    "version": 3
   },
   "file_extension": ".py",
   "mimetype": "text/x-python",
   "name": "python",
   "nbconvert_exporter": "python",
   "pygments_lexer": "ipython3",
   "version": "3.12.5"
  }
 },
 "nbformat": 4,
 "nbformat_minor": 5
}
