{
 "cells": [
  {
   "cell_type": "code",
   "execution_count": 10,
   "id": "fd570911-f1d6-4dee-820c-2bb832892031",
   "metadata": {},
   "outputs": [
    {
     "name": "stdout",
     "output_type": "stream",
     "text": [
      "Assumption 1: Data type of 'Mischief': int64\n",
      "Assumption 2: Unique values in 'Cloak': [0 1]\n",
      "\n",
      "Assumption 3:\n",
      "Participants in 'with cloak' group: 12\n",
      "Participants in 'without cloak' group: 12\n",
      "\n",
      "Assumption 4:\n"
     ]
    },
    {
     "data": {
      "image/png": "[encoded data removed]",
      "text/plain": [
       "<Figure size 640x480 with 1 Axes>"
      ]
     },
     "metadata": {},
     "output_type": "display_data"
    },
    {
     "name": "stdout",
     "output_type": "stream",
     "text": [
      "Assumption 5:\n",
      "Shapiro-Wilk test for 'with cloak' group: p-value = 0.93619\n",
      "Shapiro-Wilk test for 'without cloak' group: p-value = 0.23145\n",
      "\n",
      "\n",
      "Assumption 6:\n",
      "Levene’s test for equality of variances: p-value = 0.60868\n",
      "Equal variances.\n",
      "\n",
      "Independent t-test: t-statistic = 1.71346, p-value = 0.10069\n",
      "There is no significant difference in 'Mischief' between the two groups.\n"
     ]
    }
   ],
   "source": [
    "import pandas as pd\n",
    "import seaborn as sns\n",
    "import matplotlib.pyplot as plt\n",
    "from scipy import stats\n",
    "\n",
    "df = pd.read_csv('Invisibility Cloak.csv')\n",
    "\n",
    "cloak_group = df[df['Cloak'] == 1]['Mischief']  \n",
    "no_cloak_group = df[df['Cloak'] == 0]['Mischief'] \n",
    "\n",
    "print(f\"Assumption 1: Data type of 'Mischief': {df['Mischief'].dtype}\")\n",
    "\n",
    "print(f\"Assumption 2: Unique values in 'Cloak': {df['Cloak'].unique()}\")\n",
    "\n",
    "cloak_group_count = df['Cloak'].value_counts()\n",
    "print(\"\\nAssumption 3:\")\n",
    "print(f\"Participants in 'with cloak' group: {cloak_group_count.get(1, 0)}\")\n",
    "print(f\"Participants in 'without cloak' group: {cloak_group_count.get(0, 0)}\")\n",
    "\n",
    "\n",
    "print(\"\\nAssumption 4:\")\n",
    "sns.boxplot(x='Cloak', y='Mischief', data=df)\n",
    "plt.title('Mischief by Cloak Status')\n",
    "plt.show()\n",
    " \n",
    "\n",
    "shapiro_with_cloak = stats.shapiro(cloak_group)\n",
    "shapiro_without_cloak = stats.shapiro(no_cloak_group)\n",
    "\n",
    "print(\"Assumption 5:\")\n",
    "print(f\"Shapiro-Wilk test for 'with cloak' group: p-value = {shapiro_with_cloak[1]:.5f}\")\n",
    "print(f\"Shapiro-Wilk test for 'without cloak' group: p-value = {shapiro_without_cloak[1]:.5f}\")\n",
    "\n",
    "levene_stat, levene_p_val = stats.levene(cloak_group, no_cloak_group)\n",
    "\n",
    "print(\"\\n\\nAssumption 6:\")\n",
    "print(f\"Levene’s test for equality of variances: p-value = {levene_p_val:.5f}\")\n",
    "if levene_p_val > 0.05:\n",
    "    print(\"Equal variances.\\n\")\n",
    "else:\n",
    "    print(\"Unequal variances.\\n\")\n",
    "\n",
    "t_stat, p_val = stats.ttest_ind(cloak_group, no_cloak_group, equal_var=True)\n",
    "\n",
    "\n",
    "print(f\"Independent t-test: t-statistic = {t_stat:.5f}, p-value = {p_val:.5f}\")\n",
    "if p_val < 0.05:\n",
    "    print(\"There is a significant difference in 'Mischief' between the 'with cloak' and 'without cloak' groups.\")\n",
    "else:\n",
    "    print(\"There is no significant difference in 'Mischief' between the two groups.\")\n"
   ]
  },
  {
   "cell_type": "code",
   "execution_count": null,
   "id": "7bbce32d-213f-4129-8cc0-805e72136fd8",
   "metadata": {},
   "outputs": [],
   "source": []
  }
 ],
 "metadata": {
  "kernelspec": {
   "display_name": "Python 3 (ipykernel)",
   "language": "python",
   "name": "python3"
  },
  "language_info": {
   "codemirror_mode": {
    "name": "ipython",
    "version": 3
   },
   "file_extension": ".py",
   "mimetype": "text/x-python",
   "name": "python",
   "nbconvert_exporter": "python",
   "pygments_lexer": "ipython3",
   "version": "3.12.5"
  }
 },
 "nbformat": 4,
 "nbformat_minor": 5
}
