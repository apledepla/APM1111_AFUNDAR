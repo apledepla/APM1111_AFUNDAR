{
 "cells": [
  {
   "cell_type": "code",
   "execution_count": 2,
   "id": "055931b4-b2fd-4f45-b0f2-94d90c9db9a8",
   "metadata": {},
   "outputs": [
    {
     "data": {
      "text/html": [
       "<div>\n",
       "<style scoped>\n",
       "    .dataframe tbody tr th:only-of-type {\n",
       "        vertical-align: middle;\n",
       "    }\n",
       "\n",
       "    .dataframe tbody tr th {\n",
       "        vertical-align: top;\n",
       "    }\n",
       "\n",
       "    .dataframe thead th {\n",
       "        text-align: right;\n",
       "    }\n",
       "</style>\n",
       "<table border=\"1\" class=\"dataframe\">\n",
       "  <thead>\n",
       "    <tr style=\"text-align: right;\">\n",
       "      <th></th>\n",
       "      <th>AD_Status</th>\n",
       "      <th>Treatment</th>\n",
       "      <th>Training</th>\n",
       "      <th>Memory</th>\n",
       "    </tr>\n",
       "  </thead>\n",
       "  <tbody>\n",
       "    <tr>\n",
       "      <th>0</th>\n",
       "      <td>1</td>\n",
       "      <td>1</td>\n",
       "      <td>12</td>\n",
       "      <td>10</td>\n",
       "    </tr>\n",
       "    <tr>\n",
       "      <th>1</th>\n",
       "      <td>1</td>\n",
       "      <td>1</td>\n",
       "      <td>15</td>\n",
       "      <td>12</td>\n",
       "    </tr>\n",
       "    <tr>\n",
       "      <th>2</th>\n",
       "      <td>1</td>\n",
       "      <td>1</td>\n",
       "      <td>13</td>\n",
       "      <td>13</td>\n",
       "    </tr>\n",
       "    <tr>\n",
       "      <th>3</th>\n",
       "      <td>1</td>\n",
       "      <td>1</td>\n",
       "      <td>12</td>\n",
       "      <td>10</td>\n",
       "    </tr>\n",
       "    <tr>\n",
       "      <th>4</th>\n",
       "      <td>1</td>\n",
       "      <td>1</td>\n",
       "      <td>14</td>\n",
       "      <td>13</td>\n",
       "    </tr>\n",
       "  </tbody>\n",
       "</table>\n",
       "</div>"
      ],
      "text/plain": [
       "   AD_Status  Treatment  Training  Memory\n",
       "0          1          1        12      10\n",
       "1          1          1        15      12\n",
       "2          1          1        13      13\n",
       "3          1          1        12      10\n",
       "4          1          1        14      13"
      ]
     },
     "execution_count": 2,
     "metadata": {},
     "output_type": "execute_result"
    }
   ],
   "source": [
    "import pandas as pd\n",
    "from scipy.stats import shapiro\n",
    "\n",
    "\n",
    "df=pd.read_csv('Alzheimers-Mice-Data.csv')\n",
    "\n",
    "df.head()\n"
   ]
  },
  {
   "cell_type": "markdown",
   "id": "f67f7b03-b51c-4406-95b6-ded7cb1b4921",
   "metadata": {},
   "source": [
    "# Normality Test\n"
   ]
  },
  {
   "cell_type": "code",
   "execution_count": 3,
   "id": "f73bc33b-98f2-4de3-89c0-69a3873804c9",
   "metadata": {},
   "outputs": [
    {
     "data": {
      "text/plain": [
       "{(1, 1): {'Statistic': 0.9020198201298117, 'p-value': 0.42114965351611855},\n",
       " (1, 2): {'Statistic': 0.866835872224429, 'p-value': 0.2538464637612434},\n",
       " (2, 1): {'Statistic': 0.9020198201298121, 'p-value': 0.42114965351612},\n",
       " (2, 2): {'Statistic': 0.8939244932314427, 'p-value': 0.3772224660924305},\n",
       " (3, 1): {'Statistic': 0.9787161500642191, 'p-value': 0.9276364233495382},\n",
       " (3, 2): {'Statistic': 0.9787161500642191, 'p-value': 0.9276364233495382},\n",
       " (4, 1): {'Statistic': 0.9608589992013118, 'p-value': 0.8139521277236892},\n",
       " (4, 2): {'Statistic': 0.9608589992013118, 'p-value': 0.8139521277236892}}"
      ]
     },
     "metadata": {},
     "output_type": "display_data"
    }
   ],
   "source": [
    "from IPython.display import display\n",
    "\n",
    "\n",
    "normality ={}\n",
    "for i in df['Treatment'].unique():\n",
    "    for j in df['AD_Status'].unique():\n",
    "        group_normal=df[(df['Treatment'] == i) & (df['AD_Status'] == j)]['Training']\n",
    "        stat, p_value = shapiro(group_normal)\n",
    "        normality[(int(i), int(j))] = {'Statistic': float(stat), 'p-value': float(p_value)}\n",
    "\n",
    "display(normality)"
   ]
  },
  {
   "cell_type": "code",
   "execution_count": 4,
   "id": "274a28d6-3d61-49d4-a8b7-2464a17f63be",
   "metadata": {},
   "outputs": [
    {
     "data": {
      "text/plain": [
       "{(1, 1): {'Statistic': 0.8029904417735476, 'p-value': 0.08569260402621937},\n",
       " (1, 2): {'Statistic': 0.7709079337590306, 'p-value': 0.04595431783856295},\n",
       " (2, 1): {'Statistic': 0.9556271474166738, 'p-value': 0.7772534037372361},\n",
       " (2, 2): {'Statistic': 0.9529604619046342, 'p-value': 0.7583121101708065},\n",
       " (3, 1): {'Statistic': 0.9523514916285045, 'p-value': 0.7539729964660309},\n",
       " (3, 2): {'Statistic': 0.8810376385817489, 'p-value': 0.3140395561440371},\n",
       " (4, 1): {'Statistic': 0.9020198201298121, 'p-value': 0.4211496535161197},\n",
       " (4, 2): {'Statistic': 0.9523514916285045, 'p-value': 0.7539729964660309}}"
      ]
     },
     "metadata": {},
     "output_type": "display_data"
    }
   ],
   "source": [
    "\n",
    "normality ={}\n",
    "for i in df['Treatment'].unique():\n",
    "    for j in df['AD_Status'].unique():\n",
    "        group_normal=df[(df['Treatment'] == i) & (df['AD_Status'] == j)]['Memory']\n",
    "        stat, p_value = shapiro(group_normal)\n",
    "        normality[(int(i), int(j))] = {'Statistic': float(stat), 'p-value': float(p_value)}\n",
    "\n",
    "display(normality)"
   ]
  },
  {
   "cell_type": "markdown",
   "id": "3b867e51-36fc-4d3c-b04c-6d856b264aa3",
   "metadata": {},
   "source": [
    "# Levene's Test"
   ]
  },
  {
   "cell_type": "code",
   "execution_count": 5,
   "id": "240c3baf-1c5e-4b89-b3b4-9bea8fcb1370",
   "metadata": {},
   "outputs": [
    {
     "name": "stdout",
     "output_type": "stream",
     "text": [
      "Statistic: 0.43460764587525136 p-value: 0.87305057808911\n"
     ]
    }
   ],
   "source": [
    "from scipy.stats import levene\n",
    "\n",
    "\n",
    "group_levene = [df[(df['Treatment'] == i) & (df['AD_Status'] == j)]['Training']\n",
    "          for i in df['Treatment'].unique() for j in df['AD_Status'].unique()]\n",
    "\n",
    "levene_stat, levene_p = levene(*group_levene)\n",
    "float(levene_stat), float(levene_p)\n",
    "print(f\"Statistic: {levene_stat} p-value: {levene_p}\")"
   ]
  },
  {
   "cell_type": "code",
   "execution_count": 6,
   "id": "886fdf93-5aa0-4f7e-9970-e1aa2f4f9e5a",
   "metadata": {},
   "outputs": [
    {
     "name": "stdout",
     "output_type": "stream",
     "text": [
      "Statistic: 0.8274582560296847 p-value: 0.5722200263972536\n"
     ]
    }
   ],
   "source": [
    "\n",
    "group_levene = [df[(df['Treatment'] == i) & (df['AD_Status'] == j)]['Memory']\n",
    "          for i in df['Treatment'].unique() for j in df['AD_Status'].unique()]\n",
    "\n",
    "levene_stat, levene_p = levene(*group_levene)\n",
    "float(levene_stat), float(levene_p)\n",
    "print(f\"Statistic: {levene_stat} p-value: {levene_p}\")"
   ]
  },
  {
   "cell_type": "markdown",
   "id": "193025d2-c0d8-4bc4-b614-9f89b24bd3f9",
   "metadata": {},
   "source": [
    "# ANOVA Test"
   ]
  },
  {
   "cell_type": "code",
   "execution_count": 7,
   "id": "49d8d3b6-bf15-4d3d-861e-2b0b6c549517",
   "metadata": {},
   "outputs": [
    {
     "data": {
      "text/html": [
       "<div>\n",
       "<style scoped>\n",
       "    .dataframe tbody tr th:only-of-type {\n",
       "        vertical-align: middle;\n",
       "    }\n",
       "\n",
       "    .dataframe tbody tr th {\n",
       "        vertical-align: top;\n",
       "    }\n",
       "\n",
       "    .dataframe thead th {\n",
       "        text-align: right;\n",
       "    }\n",
       "</style>\n",
       "<table border=\"1\" class=\"dataframe\">\n",
       "  <thead>\n",
       "    <tr style=\"text-align: right;\">\n",
       "      <th></th>\n",
       "      <th>sum_sq</th>\n",
       "      <th>df</th>\n",
       "      <th>F</th>\n",
       "      <th>PR(&gt;F)</th>\n",
       "    </tr>\n",
       "  </thead>\n",
       "  <tbody>\n",
       "    <tr>\n",
       "      <th>C(AD_Status)</th>\n",
       "      <td>189.225</td>\n",
       "      <td>1.0</td>\n",
       "      <td>75.313433</td>\n",
       "      <td>6.449421e-10</td>\n",
       "    </tr>\n",
       "    <tr>\n",
       "      <th>C(Treatment)</th>\n",
       "      <td>14.475</td>\n",
       "      <td>3.0</td>\n",
       "      <td>1.920398</td>\n",
       "      <td>1.461176e-01</td>\n",
       "    </tr>\n",
       "    <tr>\n",
       "      <th>C(AD_Status):C(Treatment)</th>\n",
       "      <td>8.675</td>\n",
       "      <td>3.0</td>\n",
       "      <td>1.150912</td>\n",
       "      <td>3.436263e-01</td>\n",
       "    </tr>\n",
       "    <tr>\n",
       "      <th>Residual</th>\n",
       "      <td>80.400</td>\n",
       "      <td>32.0</td>\n",
       "      <td>NaN</td>\n",
       "      <td>NaN</td>\n",
       "    </tr>\n",
       "  </tbody>\n",
       "</table>\n",
       "</div>"
      ],
      "text/plain": [
       "                            sum_sq    df          F        PR(>F)\n",
       "C(AD_Status)               189.225   1.0  75.313433  6.449421e-10\n",
       "C(Treatment)                14.475   3.0   1.920398  1.461176e-01\n",
       "C(AD_Status):C(Treatment)    8.675   3.0   1.150912  3.436263e-01\n",
       "Residual                    80.400  32.0        NaN           NaN"
      ]
     },
     "execution_count": 7,
     "metadata": {},
     "output_type": "execute_result"
    }
   ],
   "source": [
    "import statsmodels.api as sm \n",
    "from statsmodels.formula.api import ols \n",
    "model = ols('Memory ~ C(AD_Status) * C(Treatment)', data=df).fit()\n",
    "anova_table = sm.stats.anova_lm(model, typ=2)\n",
    "\n",
    "anova_table"
   ]
  },
  {
   "cell_type": "code",
   "execution_count": null,
   "id": "d4d1e48c-38d1-475e-91e4-73ce55843e11",
   "metadata": {},
   "outputs": [],
   "source": []
  },
  {
   "cell_type": "code",
   "execution_count": 8,
   "id": "02ad6154-5134-4a7e-9836-3a8110eca750",
   "metadata": {},
   "outputs": [
    {
     "data": {
      "text/html": [
       "<div>\n",
       "<style scoped>\n",
       "    .dataframe tbody tr th:only-of-type {\n",
       "        vertical-align: middle;\n",
       "    }\n",
       "\n",
       "    .dataframe tbody tr th {\n",
       "        vertical-align: top;\n",
       "    }\n",
       "\n",
       "    .dataframe thead th {\n",
       "        text-align: right;\n",
       "    }\n",
       "</style>\n",
       "<table border=\"1\" class=\"dataframe\">\n",
       "  <thead>\n",
       "    <tr style=\"text-align: right;\">\n",
       "      <th></th>\n",
       "      <th>sum_sq</th>\n",
       "      <th>df</th>\n",
       "      <th>F</th>\n",
       "      <th>PR(&gt;F)</th>\n",
       "    </tr>\n",
       "  </thead>\n",
       "  <tbody>\n",
       "    <tr>\n",
       "      <th>C(AD_Status)</th>\n",
       "      <td>3.025</td>\n",
       "      <td>1.0</td>\n",
       "      <td>1.216080</td>\n",
       "      <td>0.278356</td>\n",
       "    </tr>\n",
       "    <tr>\n",
       "      <th>C(Treatment)</th>\n",
       "      <td>28.275</td>\n",
       "      <td>3.0</td>\n",
       "      <td>3.788945</td>\n",
       "      <td>0.019678</td>\n",
       "    </tr>\n",
       "    <tr>\n",
       "      <th>C(AD_Status):C(Treatment)</th>\n",
       "      <td>9.075</td>\n",
       "      <td>3.0</td>\n",
       "      <td>1.216080</td>\n",
       "      <td>0.319771</td>\n",
       "    </tr>\n",
       "    <tr>\n",
       "      <th>Residual</th>\n",
       "      <td>79.600</td>\n",
       "      <td>32.0</td>\n",
       "      <td>NaN</td>\n",
       "      <td>NaN</td>\n",
       "    </tr>\n",
       "  </tbody>\n",
       "</table>\n",
       "</div>"
      ],
      "text/plain": [
       "                           sum_sq    df         F    PR(>F)\n",
       "C(AD_Status)                3.025   1.0  1.216080  0.278356\n",
       "C(Treatment)               28.275   3.0  3.788945  0.019678\n",
       "C(AD_Status):C(Treatment)   9.075   3.0  1.216080  0.319771\n",
       "Residual                   79.600  32.0       NaN       NaN"
      ]
     },
     "execution_count": 8,
     "metadata": {},
     "output_type": "execute_result"
    }
   ],
   "source": [
    "import statsmodels.api as sm \n",
    "from statsmodels.formula.api import ols \n",
    "model = ols('Training ~ C(AD_Status) * C(Treatment)', data=df).fit()\n",
    "anova_table = sm.stats.anova_lm(model, typ=2)\n",
    "\n",
    "anova_table"
   ]
  },
  {
   "cell_type": "code",
   "execution_count": null,
   "id": "ad400c65-cf1f-45ca-881f-fd2330b11c1a",
   "metadata": {},
   "outputs": [],
   "source": []
  }
 ],
 "metadata": {
  "kernelspec": {
   "display_name": "Python 3 (ipykernel)",
   "language": "python",
   "name": "python3"
  },
  "language_info": {
   "codemirror_mode": {
    "name": "ipython",
    "version": 3
   },
   "file_extension": ".py",
   "mimetype": "text/x-python",
   "name": "python",
   "nbconvert_exporter": "python",
   "pygments_lexer": "ipython3",
   "version": "3.12.5"
  }
 },
 "nbformat": 4,
 "nbformat_minor": 5
}
