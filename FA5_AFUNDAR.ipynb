{
 "cells": [
  {
   "cell_type": "markdown",
   "id": "3f92bcb8-68a9-42b7-87cc-b0708b7e3582",
   "metadata": {},
   "source": [
    "# 8.18"
   ]
  },
  {
   "cell_type": "code",
   "execution_count": 28,
   "id": "e6f621f8-7990-48dc-85a7-d26532441313",
   "metadata": {},
   "outputs": [
    {
     "name": "stdout",
     "output_type": "stream",
     "text": [
      "The mean of the sampling distribution mean is 12.0 and is equal to the population mean: 12.0\n",
      "The variance of the sampling distribution mean is 3.0 and is half of the population variance 6.0\n"
     ]
    }
   ],
   "source": [
    "set_pop=[9,12,15]\n",
    "set_set_pop=[]\n",
    "pop_var=np.var(set_pop)\n",
    "pop_mean=np.mean(set_pop)\n",
    "for x in range(len(set_pop)):\n",
    "    for y in range(len(set_pop)):\n",
    "        setholder = [set_pop[x], set_pop[y]]\n",
    "        set_set_pop.append(setholder)\n",
    "\n",
    "sample_means = [np.mean(sample) for sample in set_set_pop]\n",
    "means=np.mean(sample_means)\n",
    "var=np.var(sample_means)\n",
    "\n",
    "print(f\"The mean of the sampling distribution mean is {means} and is equal to the population mean: {pop_mean}\")\n",
    "print(f\"The variance of the sampling distribution mean is {var} and is half of the population variance {pop_var}\")"
   ]
  },
  {
   "cell_type": "markdown",
   "id": "e442129b-6344-435a-8c65-753f31d2a438",
   "metadata": {},
   "source": [
    "# 8.21"
   ]
  },
  {
   "cell_type": "code",
   "execution_count": 32,
   "id": "ba73cd83-8e57-49ab-ab6b-007191f0a1ca",
   "metadata": {},
   "outputs": [
    {
     "name": "stdout",
     "output_type": "stream",
     "text": [
      "The population mean is: 9.0\n",
      "The population std is: 4.47213595499958\n",
      "The mean of the sampling distribution is: 9.0\n",
      "The standard error is: 3.1622776601683795\n",
      "\n",
      "\n",
      "For verification, the population mean 9.0 is equal to the mean of the sampling distribution 9.0\n",
      "To verify the standard error, we use the formula std/sqrt(2) which is equal to 3.162277660168379 and is similar to the standard error 3.1622776601683795\n"
     ]
    }
   ],
   "source": [
    "import numpy as np\n",
    "set4=[3,7,11,15]\n",
    "population_mean = np.mean(set4)\n",
    "population_std_dev=np.std(set4, ddof=0)\n",
    "\n",
    "sets_set4=[]\n",
    "for x in range(len(set4)):\n",
    "    for y in range(len(set4)):\n",
    "        setholder=[set4[x],set4[y]]\n",
    "        sets_set4.append(setholder)\n",
    "        \n",
    "sample_means = [np.mean(sample) for sample in sets_set4]\n",
    "mean_of_sampling_distribution = np.mean(sample_means)\n",
    "standard_error = np.std(sample_means, ddof=0)\n",
    "\n",
    "print(\"The population mean is:\",population_mean)\n",
    "print(\"The population std is:\",population_std_dev)\n",
    "print(\"The mean of the sampling distribution is:\",mean_of_sampling_distribution)\n",
    "print(\"The standard error is:\",standard_error)\n",
    "\n",
    "verifystd=(population_std_dev/np.sqrt(2))\n",
    "print(f\"\\n\\nFor verification, the population mean {population_mean} is equal to the mean of the sampling distribution {mean_of_sampling_distribution}\")\n",
    "print(f\"To verify the standard error, we use the formula std/sqrt(2) which is equal to {verifystd} and is similar to the standard error {standard_error}\")\n"
   ]
  },
  {
   "cell_type": "markdown",
   "id": "1cae0098-2239-4a7c-8c6d-77b87634d244",
   "metadata": {},
   "source": [
    "# 8.34"
   ]
  },
  {
   "cell_type": "code",
   "execution_count": 18,
   "id": "a3679dbb-c145-48ec-915d-67054d1b3fe0",
   "metadata": {},
   "outputs": [
    {
     "name": "stdout",
     "output_type": "stream",
     "text": [
      "The Probability that 40% will be boys is: 0.2338867490523633\n",
      "The Probability the boys born are in between 43% and 57% is: 95.22851197626487\n",
      "The Probability that more than 54% will be boys is: 12.89495176461697\n"
     ]
    }
   ],
   "source": [
    "n = 200\n",
    "p = 0.5\n",
    "\n",
    "mean = n * p\n",
    "std_dev = np.sqrt(n * p * (1 - p))\n",
    "\n",
    "z_a = (80 - mean) / std_dev\n",
    "prob_a = norm.cdf(z_a)\n",
    "\n",
    "z_b_lower = (86 - mean) / std_dev\n",
    "z_b_upper = (114 - mean) / std_dev\n",
    "prob_b = norm.cdf(z_b_upper) - norm.cdf(z_b_lower)\n",
    "\n",
    "z_c = (108 - mean) / std_dev\n",
    "prob_c = 1 - norm.cdf(z_c)\n",
    "\n",
    "print(\"The Probability that 40% will be boys is:\", prob_a*100)\n",
    "print(\"The Probability the boys born are in between 43% and 57% is:\", prob_b*100)\n",
    "print(\"The Probability that more than 54% will be boys is:\", prob_c*100)"
   ]
  },
  {
   "cell_type": "markdown",
   "id": "5d674271-ad18-4ac2-b2e6-3f6cf00ccad5",
   "metadata": {},
   "source": [
    "# 8.49"
   ]
  },
  {
   "cell_type": "code",
   "execution_count": 14,
   "id": "a705d701-010c-44f6-97a3-62238b384305",
   "metadata": {},
   "outputs": [
    {
     "name": "stdout",
     "output_type": "stream",
     "text": [
      "Mean: 12.00\n",
      "Variance: 10.8\n",
      "\n",
      "Grouped Results:\n",
      "Set: [6, 6]\n",
      "Mean: 6.0, Probability: 0.02\n",
      "\n",
      "\n",
      "Set: [6, 9]\n",
      "Mean: 7.5, Probability: 0.03\n",
      "\n",
      "\n",
      "Set: [6, 12]\n",
      "Mean: 9.0, Probability: 0.05\n",
      "\n",
      "\n",
      "Set: [6, 15]\n",
      "Mean: 10.5, Probability: 0.03\n",
      "\n",
      "\n",
      "Set: [6, 18]\n",
      "Mean: 12.0, Probability: 0.02\n",
      "\n",
      "\n",
      "Set: [9, 6]\n",
      "Mean: 7.5, Probability: 0.03\n",
      "\n",
      "\n",
      "Set: [9, 9]\n",
      "Mean: 9.0, Probability: 0.04\n",
      "\n",
      "\n",
      "Set: [9, 12]\n",
      "Mean: 10.5, Probability: 0.06\n",
      "\n",
      "\n",
      "Set: [9, 15]\n",
      "Mean: 12.0, Probability: 0.04\n",
      "\n",
      "\n",
      "Set: [9, 18]\n",
      "Mean: 13.5, Probability: 0.03\n",
      "\n",
      "\n",
      "Set: [12, 6]\n",
      "Mean: 9.0, Probability: 0.05\n",
      "\n",
      "\n",
      "Set: [12, 9]\n",
      "Mean: 10.5, Probability: 0.06\n",
      "\n",
      "\n",
      "Set: [12, 12]\n",
      "Mean: 12.0, Probability: 0.08\n",
      "\n",
      "\n",
      "Set: [12, 15]\n",
      "Mean: 13.5, Probability: 0.06\n",
      "\n",
      "\n",
      "Set: [12, 18]\n",
      "Mean: 15.0, Probability: 0.05\n",
      "\n",
      "\n",
      "Set: [15, 6]\n",
      "Mean: 10.5, Probability: 0.03\n",
      "\n",
      "\n",
      "Set: [15, 9]\n",
      "Mean: 12.0, Probability: 0.04\n",
      "\n",
      "\n",
      "Set: [15, 12]\n",
      "Mean: 13.5, Probability: 0.06\n",
      "\n",
      "\n",
      "Set: [15, 15]\n",
      "Mean: 15.0, Probability: 0.04\n",
      "\n",
      "\n",
      "Set: [15, 18]\n",
      "Mean: 16.5, Probability: 0.03\n",
      "\n",
      "\n",
      "Set: [18, 6]\n",
      "Mean: 12.0, Probability: 0.02\n",
      "\n",
      "\n",
      "Set: [18, 9]\n",
      "Mean: 13.5, Probability: 0.03\n",
      "\n",
      "\n",
      "Set: [18, 12]\n",
      "Mean: 15.0, Probability: 0.05\n",
      "\n",
      "\n",
      "Set: [18, 15]\n",
      "Mean: 16.5, Probability: 0.03\n",
      "\n",
      "\n",
      "Set: [18, 18]\n",
      "Mean: 18.0, Probability: 0.02\n",
      "\n",
      "\n"
     ]
    }
   ],
   "source": [
    "setx = [6, 9, 12, 15, 18]\n",
    "px = [0.1, 0.2, 0.4, 0.2, 0.1]\n",
    "\n",
    "meanx = sum(x * p for x, p in zip(setx, px))\n",
    "variancex = sum(((x - meanx) ** 2) * p for x, p in zip(setx, px))\n",
    "\n",
    "print(f\"Mean: {meanx:.2f}\")\n",
    "print(f\"Variance: {variancex}\")\n",
    "\n",
    "setForSets = []\n",
    "meanForSets = []\n",
    "probSets = []\n",
    "\n",
    "for x in range(len(setx)):\n",
    "    for y in range(len(setx)):\n",
    "        setholder = [setx[x], setx[y]]\n",
    "        meanForSets.append((setx[x] + setx[y]) / 2)\n",
    "        probSets.append((px[x] + px[y]) / 10)\n",
    "        setForSets.append(setholder)\n",
    "\n",
    "\n",
    "print(\"\\nGrouped Results:\")\n",
    "for i in range(len(setForSets)):\n",
    "    print(f\"Set: {setForSets[i]}\")\n",
    "    print(f\"Mean: {meanForSets[i]}, Probability: {probSets[i]:.2f}\\n\\n\")"
   ]
  },
  {
   "cell_type": "code",
   "execution_count": null,
   "id": "728a27af-834f-48bd-9b25-5cfdc925755a",
   "metadata": {},
   "outputs": [],
   "source": []
  }
 ],
 "metadata": {
  "kernelspec": {
   "display_name": "Python 3 (ipykernel)",
   "language": "python",
   "name": "python3"
  },
  "language_info": {
   "codemirror_mode": {
    "name": "ipython",
    "version": 3
   },
   "file_extension": ".py",
   "mimetype": "text/x-python",
   "name": "python",
   "nbconvert_exporter": "python",
   "pygments_lexer": "ipython3",
   "version": "3.12.5"
  }
 },
 "nbformat": 4,
 "nbformat_minor": 5
}
