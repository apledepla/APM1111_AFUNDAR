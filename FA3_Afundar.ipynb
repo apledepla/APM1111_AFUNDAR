{
 "cells": [
  {
   "cell_type": "code",
   "execution_count": 34,
   "id": "39561f8b-33a8-4fb2-ac8c-ebf1db94aa7e",
   "metadata": {},
   "outputs": [
    {
     "ename": "TypeError",
     "evalue": "Styler.hide() got an unexpected keyword argument 'Measure'",
     "output_type": "error",
     "traceback": [
      "\u001b[1;31m---------------------------------------------------------------------------\u001b[0m",
      "\u001b[1;31mTypeError\u001b[0m                                 Traceback (most recent call last)",
      "Cell \u001b[1;32mIn[34], line 36\u001b[0m\n\u001b[0;32m     14\u001b[0m descriptive_measures \u001b[38;5;241m=\u001b[39m {\n\u001b[0;32m     15\u001b[0m     \u001b[38;5;124m'\u001b[39m\u001b[38;5;124mValid\u001b[39m\u001b[38;5;124m'\u001b[39m: data_pd\u001b[38;5;241m.\u001b[39mcount(),\n\u001b[0;32m     16\u001b[0m     \u001b[38;5;124m'\u001b[39m\u001b[38;5;124mMode\u001b[39m\u001b[38;5;124m'\u001b[39m: data_pd\u001b[38;5;241m.\u001b[39mmode()\u001b[38;5;241m.\u001b[39mtolist(),  \u001b[38;5;66;03m# Convert to list for better presentation\u001b[39;00m\n\u001b[1;32m   (...)\u001b[0m\n\u001b[0;32m     31\u001b[0m     \u001b[38;5;124m'\u001b[39m\u001b[38;5;124m95th Percentile\u001b[39m\u001b[38;5;124m'\u001b[39m: data_pd\u001b[38;5;241m.\u001b[39mquantile(\u001b[38;5;241m0.95\u001b[39m),\n\u001b[0;32m     32\u001b[0m }\n\u001b[0;32m     34\u001b[0m descriptive_df \u001b[38;5;241m=\u001b[39m pd\u001b[38;5;241m.\u001b[39mDataFrame(descriptive_measures\u001b[38;5;241m.\u001b[39mitems(), columns\u001b[38;5;241m=\u001b[39m[\u001b[38;5;124m'\u001b[39m\u001b[38;5;124mMeasure\u001b[39m\u001b[38;5;124m'\u001b[39m, \u001b[38;5;124m'\u001b[39m\u001b[38;5;124mValue\u001b[39m\u001b[38;5;124m'\u001b[39m])\n\u001b[1;32m---> 36\u001b[0m \u001b[43mdescriptive_df\u001b[49m\u001b[38;5;241;43m.\u001b[39;49m\u001b[43mstyle\u001b[49m\u001b[38;5;241;43m.\u001b[39;49m\u001b[43mhide\u001b[49m\u001b[43m(\u001b[49m\u001b[43maxis\u001b[49m\u001b[38;5;241;43m=\u001b[39;49m\u001b[38;5;124;43m\"\u001b[39;49m\u001b[38;5;124;43mindex\u001b[39;49m\u001b[38;5;124;43m\"\u001b[39;49m\u001b[43m,\u001b[49m\u001b[43m \u001b[49m\u001b[38;5;241;43m*\u001b[39;49m\u001b[38;5;241;43m*\u001b[39;49m\u001b[43mdescriptive_df\u001b[49m\u001b[43m)\u001b[49m\n",
      "\u001b[1;31mTypeError\u001b[0m: Styler.hide() got an unexpected keyword argument 'Measure'"
     ]
    }
   ],
   "source": [
    "import numpy as np\n",
    "import pandas as pd\n",
    "\n",
    "data = [\n",
    "    88, 45, 53, 86, 33, 86, 85, 30, 89, 53, 41, 96, 56, 38, 62,\n",
    "    71, 51, 86, 68, 29, 28, 47, 33, 37, 25, 36, 33, 94, 73, 46,\n",
    "    42, 34, 79, 72, 88, 99, 82, 62, 57, 42, 28, 55, 67, 62, 60,\n",
    "    96, 61, 57, 75, 93, 34, 75, 53, 32, 28, 73, 51, 69, 91, 35\n",
    "]\n",
    "\n",
    "data_pd = pd.Series(data)\n",
    "n = data_pd.count()\n",
    "\n",
    "descriptive_measures = {\n",
    "    'Valid': data_pd.count(),\n",
    "    'Mode': data_pd.mode().tolist(),  # Convert to list for better presentation\n",
    "    'Median': data_pd.median(),\n",
    "    'Mean': data_pd.mean(),\n",
    "    'Std. Deviation': data_pd.std(),\n",
    "    'Variance': data_pd.var(),\n",
    "    'Skewness': data_pd.skew(),\n",
    "    'Std. Error of Skewness': np.sqrt(((6)*(n)*(n-1))/((n-2)*(n+1)*(n+3))),\n",
    "    'Kurtosis': data_pd.kurt(),\n",
    "    'Std. Error of Kurtosis': np.sqrt(24 / n),\n",
    "    'Minimum': data_pd.min(),\n",
    "    'Maximum': data_pd.max(),\n",
    "    '25th Percentile': data_pd.quantile(0.25),\n",
    "    '50th Percentile': data_pd.quantile(0.50),\n",
    "    '75th Percentile': data_pd.quantile(0.75),\n",
    "    '90th Percentile': data_pd.quantile(0.90),\n",
    "    '95th Percentile': data_pd.quantile(0.95),\n",
    "}\n",
    "\n",
    "descriptive_df = pd.DataFrame(descriptive_measures.items(), columns=['Measure', 'Value'])\n",
    "\n",
    "descriptive_df.style.\n"
   ]
  },
  {
   "cell_type": "code",
   "execution_count": null,
   "id": "7f796c61-ca5f-4437-baaf-474c46a5b920",
   "metadata": {},
   "outputs": [],
   "source": []
  }
 ],
 "metadata": {
  "kernelspec": {
   "display_name": "Python 3 (ipykernel)",
   "language": "python",
   "name": "python3"
  },
  "language_info": {
   "codemirror_mode": {
    "name": "ipython",
    "version": 3
   },
   "file_extension": ".py",
   "mimetype": "text/x-python",
   "name": "python",
   "nbconvert_exporter": "python",
   "pygments_lexer": "ipython3",
   "version": "3.12.5"
  }
 },
 "nbformat": 4,
 "nbformat_minor": 5
}
