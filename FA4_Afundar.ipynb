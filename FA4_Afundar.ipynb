{
 "cells": [
  {
   "cell_type": "code",
   "execution_count": 27,
   "id": "4f1d7b93-65ab-4fe9-bffb-723896f31ba4",
   "metadata": {},
   "outputs": [],
   "source": [
    "import numpy as np\n",
    "import pandas as pd\n",
    "from IPython.display import display\n",
    "\n",
    "fem_height_norm = [67,70,63,65,68,60,70,64,69,61,66,65,71,62,66,68,64,67,62,66,65,63,66,65,63,69,62,67,59,66,65,63,65,60,67,64,68,61,69,65,62,67,70,64,63,68,65,61,66]\n",
    "fem_marriage_skewright = [31,43,30,30,38,26,29,55,46,26,29,57,34,34,36,40,28,26,66,63,30,33,24,35,34,40,24,29,24,27,35,33,75,38,34,85,29,40,41,35,26,34,19,23,28,26,31,25,22,28]\n",
    "age_death_skewleft=[102,55,70,95,73,79,60,73,89,85,72,92,76,93,76,97,10,70,85,25,83,58,10,92,82,87,104,75,80,66,93,90,84,73,98,79,35,71,90,71,63,58,82,72,93,44,65,77,81,77]\n",
    "cont_softdrinks_uniform=[12.1,12.1,12.4,12.1,12.1,12.2,12.2,12.2,11.9,12.2,12.3,12.3,11.7,12.3,12.3,12.4,12.4,12.1,12.4,12.4,12.5,11.8,12.5,12.5,12.5,11.6,11.6,12.0,11.6,11.6,11.7,12.3,11.7,11.7,11.7,11.8,12.5,11.8,11.8,11.8,11.9,11.9,11.9,12.2,11.9,12.0,11.9,12.0,12.0,12.0]\n"
   ]
  },
  {
   "cell_type": "markdown",
   "id": "86e0fa49-d378-40b3-bb6b-da3d62291412",
   "metadata": {},
   "source": [
    "# Number 1"
   ]
  },
  {
   "cell_type": "code",
   "execution_count": 28,
   "id": "ab1d2cf7-e6c8-41de-ac7a-e16a27eaa9db",
   "metadata": {},
   "outputs": [
    {
     "data": {
      "text/html": [
       "<div>\n",
       "<style scoped>\n",
       "    .dataframe tbody tr th:only-of-type {\n",
       "        vertical-align: middle;\n",
       "    }\n",
       "\n",
       "    .dataframe tbody tr th {\n",
       "        vertical-align: top;\n",
       "    }\n",
       "\n",
       "    .dataframe thead th {\n",
       "        text-align: right;\n",
       "    }\n",
       "</style>\n",
       "<table border=\"1\" class=\"dataframe\">\n",
       "  <thead>\n",
       "    <tr style=\"text-align: right;\">\n",
       "      <th></th>\n",
       "      <th>First Moment</th>\n",
       "      <th>Second Moment</th>\n",
       "      <th>Third Moment</th>\n",
       "      <th>Fourth Moment</th>\n",
       "    </tr>\n",
       "  </thead>\n",
       "  <tbody>\n",
       "    <tr>\n",
       "      <th>Normal</th>\n",
       "      <td>65.142857</td>\n",
       "      <td>4252.040816</td>\n",
       "      <td>278089.836735</td>\n",
       "      <td>1.822309e+07</td>\n",
       "    </tr>\n",
       "    <tr>\n",
       "      <th>Skew-right</th>\n",
       "      <td>35.480000</td>\n",
       "      <td>1437.720000</td>\n",
       "      <td>68292.440000</td>\n",
       "      <td>3.797594e+06</td>\n",
       "    </tr>\n",
       "    <tr>\n",
       "      <th>Skew-left</th>\n",
       "      <td>74.200000</td>\n",
       "      <td>5925.400000</td>\n",
       "      <td>489458.800000</td>\n",
       "      <td>4.139616e+07</td>\n",
       "    </tr>\n",
       "    <tr>\n",
       "      <th>Uniform</th>\n",
       "      <td>12.056000</td>\n",
       "      <td>145.426000</td>\n",
       "      <td>1755.157760</td>\n",
       "      <td>2.119459e+04</td>\n",
       "    </tr>\n",
       "  </tbody>\n",
       "</table>\n",
       "</div>"
      ],
      "text/plain": [
       "            First Moment  Second Moment   Third Moment  Fourth Moment\n",
       "Normal         65.142857    4252.040816  278089.836735   1.822309e+07\n",
       "Skew-right     35.480000    1437.720000   68292.440000   3.797594e+06\n",
       "Skew-left      74.200000    5925.400000  489458.800000   4.139616e+07\n",
       "Uniform        12.056000     145.426000    1755.157760   2.119459e+04"
      ]
     },
     "metadata": {},
     "output_type": "display_data"
    }
   ],
   "source": [
    "\n",
    "norm_m1=np.mean(fem_height_norm)\n",
    "norm_m2=np.mean(np.array(fem_height_norm)**2)\n",
    "norm_m3=np.mean(np.array(fem_height_norm)**3)\n",
    "norm_m4=np.mean(np.array(fem_height_norm)**4)\n",
    "\n",
    "skewright_m1=np.mean(fem_marriage_skewright)\n",
    "skewright_m2=np.mean(np.array(fem_marriage_skewright)**2)\n",
    "skewright_m3=np.mean(np.array(fem_marriage_skewright)**3)\n",
    "skewright_m4=np.mean(np.array(fem_marriage_skewright)**4)\n",
    "\n",
    "skewleft_m1=np.mean(age_death_skewleft)\n",
    "skewleft_m2=np.mean(np.array(age_death_skewleft)**2)\n",
    "skewleft_m3=np.mean(np.array(age_death_skewleft)**3)\n",
    "skewleft_m4=np.mean(np.array(age_death_skewleft)**4)\n",
    "\n",
    "uniform_m1=np.mean(cont_softdrinks_uniform)\n",
    "uniform_m2=np.mean(np.array(cont_softdrinks_uniform)**2)\n",
    "uniform_m3=np.mean(np.array(cont_softdrinks_uniform)**3)\n",
    "uniform_m4=np.mean(np.array(cont_softdrinks_uniform)**4)\n",
    "\n",
    "data = {\n",
    "    'First Moment': [norm_m1, skewright_m1, skewleft_m1, uniform_m1],\n",
    "    'Second Moment': [norm_m2, skewright_m2, skewleft_m2, uniform_m2],\n",
    "    'Third Moment': [norm_m3, skewright_m3, skewleft_m3, uniform_m3],\n",
    "    'Fourth Moment': [norm_m4, skewright_m4, skewleft_m4, uniform_m4]\n",
    "}\n",
    "\n",
    "df_moments = pd.DataFrame(data, index=['Normal', 'Skew-right', 'Skew-left', 'Uniform'])\n",
    "\n",
    "display(df_moments)"
   ]
  },
  {
   "cell_type": "markdown",
   "id": "abc21925-b70d-40d7-96ea-b906b133e50d",
   "metadata": {},
   "source": [
    "# Number 2"
   ]
  },
  {
   "cell_type": "code",
   "execution_count": 37,
   "id": "3bf9cccb-eb08-4aad-87c5-e754ddd78adf",
   "metadata": {},
   "outputs": [
    {
     "data": {
      "text/html": [
       "<div>\n",
       "<style scoped>\n",
       "    .dataframe tbody tr th:only-of-type {\n",
       "        vertical-align: middle;\n",
       "    }\n",
       "\n",
       "    .dataframe tbody tr th {\n",
       "        vertical-align: top;\n",
       "    }\n",
       "\n",
       "    .dataframe thead th {\n",
       "        text-align: right;\n",
       "    }\n",
       "</style>\n",
       "<table border=\"1\" class=\"dataframe\">\n",
       "  <thead>\n",
       "    <tr style=\"text-align: right;\">\n",
       "      <th></th>\n",
       "      <th>First Moment</th>\n",
       "      <th>Second Moment</th>\n",
       "      <th>Third Moment</th>\n",
       "      <th>Fourth Moment</th>\n",
       "    </tr>\n",
       "  </thead>\n",
       "  <tbody>\n",
       "    <tr>\n",
       "      <th>Normal</th>\n",
       "      <td>65.62</td>\n",
       "      <td>5.1156</td>\n",
       "      <td>-0.373344</td>\n",
       "      <td>60.47951</td>\n",
       "    </tr>\n",
       "  </tbody>\n",
       "</table>\n",
       "</div>"
      ],
      "text/plain": [
       "        First Moment  Second Moment  Third Moment  Fourth Moment\n",
       "Normal         65.62         5.1156     -0.373344       60.47951"
      ]
     },
     "metadata": {},
     "output_type": "display_data"
    }
   ],
   "source": [
    "\n",
    "norm_m1_2 = np.mean(fem_height_norm)\n",
    "norm_m2_2 = np.var(fem_height_norm) \n",
    "norm_m3_2 = np.mean((fem_height_norm - norm_m1_2)**3)\n",
    "norm_m4_2 = np.mean((fem_height_norm - norm_m1_2)**4)\n",
    "\n",
    "\n",
    "data_2 = {\n",
    "    'First Moment': [norm_m1_2],\n",
    "    'Second Moment': [norm_m2_2],\n",
    "    'Third Moment': [norm_m3_2],\n",
    "    'Fourth Moment': [norm_m4_2]\n",
    "}\n",
    "\n",
    "df_moments = pd.DataFrame(data_2, index=['Normal'])\n",
    "\n",
    "display(df_moments)\n"
   ]
  },
  {
   "cell_type": "markdown",
   "id": "74b9332f-40db-4a10-a483-5cf7b3a826b7",
   "metadata": {},
   "source": [
    "# Number 3"
   ]
  },
  {
   "cell_type": "code",
   "execution_count": 39,
   "id": "ba545de8-1c08-428e-88e9-2cd7ee8f3df7",
   "metadata": {},
   "outputs": [
    {
     "data": {
      "text/html": [
       "<div>\n",
       "<style scoped>\n",
       "    .dataframe tbody tr th:only-of-type {\n",
       "        vertical-align: middle;\n",
       "    }\n",
       "\n",
       "    .dataframe tbody tr th {\n",
       "        vertical-align: top;\n",
       "    }\n",
       "\n",
       "    .dataframe thead th {\n",
       "        text-align: right;\n",
       "    }\n",
       "</style>\n",
       "<table border=\"1\" class=\"dataframe\">\n",
       "  <thead>\n",
       "    <tr style=\"text-align: right;\">\n",
       "      <th></th>\n",
       "      <th>Moment about 75</th>\n",
       "      <th>Values</th>\n",
       "    </tr>\n",
       "  </thead>\n",
       "  <tbody>\n",
       "    <tr>\n",
       "      <th>0</th>\n",
       "      <td>First Moment</td>\n",
       "      <td>-9.38</td>\n",
       "    </tr>\n",
       "    <tr>\n",
       "      <th>1</th>\n",
       "      <td>Second Moment</td>\n",
       "      <td>93.10</td>\n",
       "    </tr>\n",
       "    <tr>\n",
       "      <th>2</th>\n",
       "      <td>Third Moment</td>\n",
       "      <td>-969.62</td>\n",
       "    </tr>\n",
       "    <tr>\n",
       "      <th>3</th>\n",
       "      <td>Fourth Moment</td>\n",
       "      <td>10516.30</td>\n",
       "    </tr>\n",
       "  </tbody>\n",
       "</table>\n",
       "</div>"
      ],
      "text/plain": [
       "  Moment about 75    Values\n",
       "0    First Moment     -9.38\n",
       "1   Second Moment     93.10\n",
       "2    Third Moment   -969.62\n",
       "3   Fourth Moment  10516.30"
      ]
     },
     "metadata": {},
     "output_type": "display_data"
    }
   ],
   "source": [
    "\n",
    "m1_75 = np.mean(np.array(fem_height_norm)-75)                   \n",
    "m2_75 = np.mean((np.array(fem_height_norm)-75)**2)              \n",
    "m3_75 = np.mean((np.array(fem_height_norm)-75)**3)               \n",
    "m4_75 = np.mean((np.array(fem_height_norm)-75)**4)                \n",
    "\n",
    "data_75 = {\n",
    "    'Moment about 75': ['First Moment', 'Second Moment', 'Third Moment', 'Fourth Moment'],\n",
    "    'Values': [m1_75, m2_75, m3_75, m4_75]\n",
    "}\n",
    "\n",
    "df_moments_75 = pd.DataFrame(data_75)\n",
    "\n",
    "display(df_moments_75)"
   ]
  },
  {
   "cell_type": "markdown",
   "id": "992fedb9-c221-4397-a96c-08a3a0a7564c",
   "metadata": {},
   "source": [
    "# Number 4"
   ]
  },
  {
   "cell_type": "code",
   "execution_count": 42,
   "id": "a5ccc4b8-3f25-4845-8223-619823a292f5",
   "metadata": {},
   "outputs": [
    {
     "name": "stdout",
     "output_type": "stream",
     "text": [
      "\n",
      "Verification:\n",
      "Verified m2: 5.115599999999986\n",
      "Verified m3: -0.373344000000543\n",
      "Verified m4: 60.4795099199946\n",
      "With this, m2,m3 & m4 is the same as the moments from number 2. Therefore, the relations between the moments are verified\n"
     ]
    }
   ],
   "source": [
    "\n",
    "m2_verify = m2_75-m1_75**2\n",
    "m3_verify = m3_75 - 3*m1_75*m2_75 + 2*(m1_75**3)\n",
    "m4_verify = m4_75 - 4*m1_75*m3_75 + 6*(m1_75**2)*m2_75 - 3*(m1_75**4)\n",
    "\n",
    "\n",
    "print(\"\\nVerification:\")\n",
    "print(f\"Verified m2: {m2_verify}\")\n",
    "print(f\"Verified m3: {m3_verify}\")\n",
    "print(f\"Verified m4: {m4_verify}\")\n",
    "\n",
    "print(\"With this, m2,m3 & m4 is the same as the moments from number 2. Therefore, the relations between the moments are verified\")"
   ]
  },
  {
   "cell_type": "code",
   "execution_count": null,
   "id": "91101a9c-73a3-4e35-a032-3b5ebf94ff0b",
   "metadata": {},
   "outputs": [],
   "source": []
  }
 ],
 "metadata": {
  "kernelspec": {
   "display_name": "Python 3 (ipykernel)",
   "language": "python",
   "name": "python3"
  },
  "language_info": {
   "codemirror_mode": {
    "name": "ipython",
    "version": 3
   },
   "file_extension": ".py",
   "mimetype": "text/x-python",
   "name": "python",
   "nbconvert_exporter": "python",
   "pygments_lexer": "ipython3",
   "version": "3.12.5"
  }
 },
 "nbformat": 4,
 "nbformat_minor": 5
}
