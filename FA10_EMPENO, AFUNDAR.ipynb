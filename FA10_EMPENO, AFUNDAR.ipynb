{
 "cells": [
  {
   "cell_type": "code",
   "execution_count": 1,
   "metadata": {},
   "outputs": [],
   "source": [
    "import pandas as pd\n",
    "\n",
    "df = pd.read_csv('Cholesterol_R2.csv')"
   ]
  },
  {
   "cell_type": "code",
   "execution_count": 2,
   "metadata": {},
   "outputs": [
    {
     "data": {
      "text/html": [
       "<div>\n",
       "<style scoped>\n",
       "    .dataframe tbody tr th:only-of-type {\n",
       "        vertical-align: middle;\n",
       "    }\n",
       "\n",
       "    .dataframe tbody tr th {\n",
       "        vertical-align: top;\n",
       "    }\n",
       "\n",
       "    .dataframe thead th {\n",
       "        text-align: right;\n",
       "    }\n",
       "</style>\n",
       "<table border=\"1\" class=\"dataframe\">\n",
       "  <thead>\n",
       "    <tr style=\"text-align: right;\">\n",
       "      <th></th>\n",
       "      <th>ID</th>\n",
       "      <th>Before</th>\n",
       "      <th>After4weeks</th>\n",
       "      <th>After8weeks</th>\n",
       "      <th>Margarine</th>\n",
       "    </tr>\n",
       "  </thead>\n",
       "  <tbody>\n",
       "    <tr>\n",
       "      <th>0</th>\n",
       "      <td>1</td>\n",
       "      <td>6.42</td>\n",
       "      <td>5.83</td>\n",
       "      <td>5.75</td>\n",
       "      <td>B</td>\n",
       "    </tr>\n",
       "    <tr>\n",
       "      <th>1</th>\n",
       "      <td>2</td>\n",
       "      <td>6.76</td>\n",
       "      <td>6.20</td>\n",
       "      <td>6.13</td>\n",
       "      <td>B</td>\n",
       "    </tr>\n",
       "    <tr>\n",
       "      <th>2</th>\n",
       "      <td>3</td>\n",
       "      <td>6.56</td>\n",
       "      <td>5.83</td>\n",
       "      <td>5.71</td>\n",
       "      <td>B</td>\n",
       "    </tr>\n",
       "    <tr>\n",
       "      <th>3</th>\n",
       "      <td>4</td>\n",
       "      <td>4.80</td>\n",
       "      <td>4.27</td>\n",
       "      <td>4.15</td>\n",
       "      <td>A</td>\n",
       "    </tr>\n",
       "    <tr>\n",
       "      <th>4</th>\n",
       "      <td>5</td>\n",
       "      <td>8.43</td>\n",
       "      <td>7.71</td>\n",
       "      <td>7.67</td>\n",
       "      <td>B</td>\n",
       "    </tr>\n",
       "  </tbody>\n",
       "</table>\n",
       "</div>"
      ],
      "text/plain": [
       "   ID  Before  After4weeks  After8weeks Margarine\n",
       "0   1    6.42         5.83         5.75         B\n",
       "1   2    6.76         6.20         6.13         B\n",
       "2   3    6.56         5.83         5.71         B\n",
       "3   4    4.80         4.27         4.15         A\n",
       "4   5    8.43         7.71         7.67         B"
      ]
     },
     "execution_count": 2,
     "metadata": {},
     "output_type": "execute_result"
    }
   ],
   "source": [
    "df.head()"
   ]
  },
  {
   "cell_type": "markdown",
   "metadata": {},
   "source": [
    "```markdown\n",
    "The dependent variable in this dataset is continuous, thus not violating the first assumption of having a continuous dependent variable.\n",
    "```"
   ]
  },
  {
   "cell_type": "code",
   "execution_count": 3,
   "metadata": {},
   "outputs": [
    {
     "data": {
      "text/plain": [
       "array(['B', 'A'], dtype=object)"
      ]
     },
     "execution_count": 3,
     "metadata": {},
     "output_type": "execute_result"
    }
   ],
   "source": [
    "df['Margarine'].unique()"
   ]
  },
  {
   "cell_type": "markdown",
   "metadata": {},
   "source": [
    "The dataset contains two categories, B and A, for the variable 'Margarine', thus not violating the second assumption of having categorical independent variables."
   ]
  },
  {
   "cell_type": "code",
   "execution_count": 5,
   "metadata": {},
   "outputs": [
    {
     "data": {
      "text/plain": [
       "Index(['ID', 'Before', 'After4weeks', 'After8weeks', 'Margarine'], dtype='object')"
      ]
     },
     "execution_count": 5,
     "metadata": {},
     "output_type": "execute_result"
    }
   ],
   "source": [
    "df.columns"
   ]
  },
  {
   "cell_type": "markdown",
   "metadata": {},
   "source": [
    "The within-subjects factor is time, which has three categorical levels: before, after 4 weeks, and after 8 weeks."
   ]
  },
  {
   "cell_type": "code",
   "execution_count": 6,
   "metadata": {},
   "outputs": [
    {
     "data": {
      "image/png": "[encoded data removed]",
      "text/plain": [
       "<Figure size 1000x600 with 1 Axes>"
      ]
     },
     "metadata": {},
     "output_type": "display_data"
    }
   ],
   "source": [
    "import seaborn as sns\n",
    "\n",
    "import matplotlib.pyplot as plt\n",
    "\n",
    "df_melted = df.melt(id_vars=['ID', 'Margarine'], value_vars=['Before', 'After4weeks', 'After8weeks'], \n",
    "                    var_name='Time', value_name='Cholesterol')\n",
    "\n",
    "# Create the box plot\n",
    "plt.figure(figsize=(10, 6))\n",
    "sns.boxplot(x='Time', y='Cholesterol', hue='Margarine', data=df_melted)\n",
    "plt.title('Box plot of Cholesterol levels by Time and Margarine type')\n",
    "plt.show()"
   ]
  },
  {
   "cell_type": "markdown",
   "metadata": {},
   "source": [
    "```markdown\n",
    "There are significant outliers in B:Before, B:After4Weeks, B:After8weeks, thus violating the assumption 4. However, the researchers opted to remove them due to the low count.\n",
    "```"
   ]
  },
  {
   "cell_type": "code",
   "execution_count": 7,
   "metadata": {},
   "outputs": [
    {
     "name": "stdout",
     "output_type": "stream",
     "text": [
      "   ID Margarine    Time  Cholesterol  Cholesterol_IQR\n",
      "0   1         B  Before         6.42        -0.012346\n",
      "1   2         B  Before         6.76         0.827160\n",
      "2   3         B  Before         6.56         0.333333\n",
      "3   4         A  Before         4.80        -0.078452\n",
      "4   5         B  Before         8.43         4.950617\n"
     ]
    },
    {
     "name": "stderr",
     "output_type": "stream",
     "text": [
      "C:\\Users\\User\\AppData\\Local\\Temp\\ipykernel_12492\\3945464162.py:8: DeprecationWarning: DataFrameGroupBy.apply operated on the grouping columns. This behavior is deprecated, and in a future version of pandas the grouping columns will be excluded from the operation. Either pass `include_groups=False` to exclude the groupings or explicitly select the grouping columns after groupby to silence this warning.\n",
      "  df_melted['Cholesterol_IQR'] = df_melted.groupby(['Margarine', 'Time']).apply(iqr_transform).reset_index(level=[0,1], drop=True)\n"
     ]
    }
   ],
   "source": [
    "# Calculate the IQR for each combination of 'Margarine' and 'Time'\n",
    "def iqr_transform(group):\n",
    "    Q1 = group['Cholesterol'].quantile(0.25)\n",
    "    Q3 = group['Cholesterol'].quantile(0.75)\n",
    "    IQR = Q3 - Q1\n",
    "    return (group['Cholesterol'] - Q1) / IQR\n",
    "\n",
    "df_melted['Cholesterol_IQR'] = df_melted.groupby(['Margarine', 'Time']).apply(iqr_transform).reset_index(level=[0,1], drop=True)\n",
    "print(df_melted.head())"
   ]
  },
  {
   "cell_type": "code",
   "execution_count": 8,
   "metadata": {},
   "outputs": [
    {
     "data": {
      "image/png": "[encoded data removed]",
      "text/plain": [
       "<Figure size 1000x600 with 1 Axes>"
      ]
     },
     "metadata": {},
     "output_type": "display_data"
    }
   ],
   "source": [
    "plt.figure(figsize=(10, 6))\n",
    "sns.boxplot(x='Time', y='Cholesterol_IQR', hue='Margarine', data=df_melted)\n",
    "plt.title('Box plot of Cholesterol IQR levels by Time and Margarine type')\n",
    "plt.show()"
   ]
  },
  {
   "cell_type": "code",
   "execution_count": 9,
   "metadata": {},
   "outputs": [
    {
     "name": "stdout",
     "output_type": "stream",
     "text": [
      "    ID Margarine         Time  Cholesterol  Cholesterol_IQR\n",
      "0    4         A  After4weeks         4.27        -0.076531\n",
      "1    6         A  After4weeks         7.12         1.086735\n",
      "2    8         A  After4weeks         4.63         0.070408\n",
      "3   10         A  After4weeks         3.70        -0.309184\n",
      "4   13         A  After4weeks         5.56         0.450000\n",
      "5   14         A  After4weeks         7.11         1.082653\n",
      "6   15         A  After4weeks         6.84         0.972449\n",
      "7   17         A  After4weeks         4.52         0.025510\n",
      "8    4         A  After8weeks         4.15        -0.090726\n",
      "9    6         A  After8weeks         7.05         1.078629\n",
      "10   8         A  After8weeks         4.67         0.118952\n",
      "11  10         A  After8weeks         3.66        -0.288306\n",
      "12  13         A  After8weeks         5.51         0.457661\n",
      "13  14         A  After8weeks         6.96         1.042339\n",
      "14  15         A  After8weeks         6.82         0.985887\n",
      "15  17         A  After8weeks         4.45         0.030242\n",
      "16   4         A       Before         4.80        -0.078452\n",
      "17   6         A       Before         7.49         1.047071\n",
      "18   8         A       Before         5.05         0.026151\n",
      "19  10         A       Before         3.91        -0.450837\n",
      "20  13         A       Before         6.17         0.494770\n",
      "21  14         A       Before         7.67         1.122385\n",
      "22  15         A       Before         7.34         0.984310\n",
      "23  17         A       Before         5.13         0.059623\n",
      "24   1         B  After4weeks         5.83         0.257143\n",
      "25   2         B  After4weeks         6.20         0.785714\n",
      "26   3         B  After4weeks         5.83         0.257143\n",
      "27   7         B  After4weeks         7.25         2.285714\n",
      "28   9         B  After4weeks         5.31        -0.485714\n",
      "29  11         B  After4weeks         6.15         0.714286\n",
      "30  12         B  After4weeks         5.59        -0.085714\n",
      "31  16         B  After4weeks         6.40         1.071429\n",
      "32  18         B  After4weeks         5.13        -0.742857\n",
      "33   1         B  After8weeks         5.75         0.156118\n",
      "34   2         B  After8weeks         6.13         0.797468\n",
      "35   3         B  After8weeks         5.71         0.088608\n",
      "36   7         B  After8weeks         7.10         2.434599\n",
      "37   9         B  After8weeks         5.33        -0.552743\n",
      "38  11         B  After8weeks         5.96         0.510549\n",
      "39  12         B  After8weeks         5.64        -0.029536\n",
      "40  16         B  After8weeks         6.29         1.067511\n",
      "41  18         B  After8weeks         5.17        -0.822785\n",
      "42   1         B       Before         6.42        -0.012346\n",
      "43   2         B       Before         6.76         0.827160\n",
      "44   3         B       Before         6.56         0.333333\n",
      "45  11         B       Before         6.77         0.851852\n",
      "46  12         B       Before         6.44         0.037037\n",
      "47  16         B       Before         6.85         1.049383\n"
     ]
    },
    {
     "name": "stderr",
     "output_type": "stream",
     "text": [
      "C:\\Users\\User\\AppData\\Local\\Temp\\ipykernel_12492\\2917459760.py:11: DeprecationWarning: DataFrameGroupBy.apply operated on the grouping columns. This behavior is deprecated, and in a future version of pandas the grouping columns will be excluded from the operation. Either pass `include_groups=False` to exclude the groupings or explicitly select the grouping columns after groupby to silence this warning.\n",
      "  df_no_outliers = df_melted.groupby(['Margarine', 'Time']).apply(remove_outliers).reset_index(drop=True)\n"
     ]
    }
   ],
   "source": [
    "# Define a function to remove outliers\n",
    "def remove_outliers(group):\n",
    "    Q1 = group['Cholesterol'].quantile(0.25)\n",
    "    Q3 = group['Cholesterol'].quantile(0.75)\n",
    "    IQR = Q3 - Q1\n",
    "    lower_bound = Q1 - 1.5 * IQR\n",
    "    upper_bound = Q3 + 1.5 * IQR\n",
    "    return group[(group['Cholesterol'] >= lower_bound) & (group['Cholesterol'] <= upper_bound)]\n",
    "\n",
    "# Apply the function to each group\n",
    "df_no_outliers = df_melted.groupby(['Margarine', 'Time']).apply(remove_outliers).reset_index(drop=True)\n",
    "print(df_no_outliers)"
   ]
  },
  {
   "cell_type": "code",
   "execution_count": 10,
   "metadata": {},
   "outputs": [
    {
     "data": {
      "image/png": "[encoded data removed]",
      "text/plain": [
       "<Figure size 1000x600 with 1 Axes>"
      ]
     },
     "metadata": {},
     "output_type": "display_data"
    }
   ],
   "source": [
    "plt.figure(figsize=(10, 6))\n",
    "sns.boxplot(x='Time', y='Cholesterol', hue='Margarine', data=df_no_outliers)\n",
    "plt.title('Box plot of Cholesterol levels by Time and Margarine type (No Outliers)')\n",
    "plt.show()"
   ]
  },
  {
   "cell_type": "code",
   "execution_count": 11,
   "metadata": {},
   "outputs": [
    {
     "name": "stdout",
     "output_type": "stream",
     "text": [
      "  Margarine         Time         W   p-value\n",
      "0         A  After4weeks  0.871056  0.154353\n",
      "1         A  After8weeks  0.876377  0.173832\n",
      "2         A       Before  0.900533  0.292166\n",
      "3         B  After4weeks  0.950180  0.692035\n",
      "4         B  After8weeks  0.934303  0.523362\n",
      "5         B       Before  0.880262  0.270261\n"
     ]
    }
   ],
   "source": [
    "from scipy.stats import shapiro\n",
    "\n",
    "# Perform Shapiro-Wilk test for each combination of 'Margarine' and 'Time'\n",
    "shapiro_results = df_no_outliers.groupby(['Margarine', 'Time'])['Cholesterol'].apply(shapiro).reset_index()\n",
    "shapiro_results.columns = ['Margarine', 'Time', 'Shapiro_Result']\n",
    "shapiro_results['W'] = shapiro_results['Shapiro_Result'].apply(lambda x: x[0])\n",
    "shapiro_results['p-value'] = shapiro_results['Shapiro_Result'].apply(lambda x: x[1])\n",
    "shapiro_results.drop(columns=['Shapiro_Result'], inplace=True)\n",
    "\n",
    "print(shapiro_results)"
   ]
  },
  {
   "cell_type": "markdown",
   "metadata": {},
   "source": [
    "After removing significant outliers, all combinations of between and within factors are normally distributed."
   ]
  },
  {
   "cell_type": "code",
   "execution_count": 12,
   "metadata": {},
   "outputs": [
    {
     "name": "stdout",
     "output_type": "stream",
     "text": [
      "          Time          W   p-value\n",
      "0  After4weeks   7.051302  0.017995\n",
      "1  After8weeks   8.787763  0.009647\n",
      "2       Before  15.290754  0.002071\n"
     ]
    },
    {
     "name": "stderr",
     "output_type": "stream",
     "text": [
      "C:\\Users\\User\\AppData\\Local\\Temp\\ipykernel_12492\\1661559200.py:4: DeprecationWarning: DataFrameGroupBy.apply operated on the grouping columns. This behavior is deprecated, and in a future version of pandas the grouping columns will be excluded from the operation. Either pass `include_groups=False` to exclude the groupings or explicitly select the grouping columns after groupby to silence this warning.\n",
      "  levene_results = df_no_outliers.groupby('Time').apply(lambda x: levene(x[x['Margarine'] == 'A']['Cholesterol'],\n"
     ]
    }
   ],
   "source": [
    "from scipy.stats import levene\n",
    "\n",
    "# Perform Levene's test for each combination of 'Margarine' and 'Time'\n",
    "levene_results = df_no_outliers.groupby('Time').apply(lambda x: levene(x[x['Margarine'] == 'A']['Cholesterol'], \n",
    "                                                                      x[x['Margarine'] == 'B']['Cholesterol'])).reset_index()\n",
    "levene_results.columns = ['Time', 'Levene_Result']\n",
    "levene_results['W'] = levene_results['Levene_Result'].apply(lambda x: x[0])\n",
    "levene_results['p-value'] = levene_results['Levene_Result'].apply(lambda x: x[1])\n",
    "levene_results.drop(columns=['Levene_Result'], inplace=True)\n",
    "\n",
    "print(levene_results)"
   ]
  },
  {
   "cell_type": "code",
   "execution_count": 15,
   "metadata": {},
   "outputs": [],
   "source": [
    "df_melted = df_no_outliers"
   ]
  },
  {
   "cell_type": "code",
   "execution_count": 16,
   "metadata": {},
   "outputs": [
    {
     "data": {
      "text/plain": [
       "(75.4282852662029, 3.1308289294429414e-14)"
      ]
     },
     "execution_count": 16,
     "metadata": {},
     "output_type": "execute_result"
    }
   ],
   "source": [
    "import numpy as np\n",
    "from scipy.stats import chi2\n",
    "\n",
    "def box_m_test_manual(data, group_column, time_columns):\n",
    "\n",
    "    groups = data[group_column].unique()\n",
    "    group_sizes = {group: len(data[data[group_column] == group]) for group in groups}\n",
    "    total_size = sum(group_sizes.values())\n",
    "    \n",
    "    cov_matrices = {group: data[data[group_column] == group][time_columns].cov().values for group in groups}\n",
    "    \n",
    "    pooled_cov = sum((group_sizes[group] - 1) * cov_matrices[group] for group in groups) / (total_size - len(groups))\n",
    "    \n",
    "    log_det_pooled = np.log(np.linalg.det(pooled_cov))\n",
    "    log_det_groups = sum((group_sizes[group] - 1) * np.log(np.linalg.det(cov_matrices[group])) for group in groups)\n",
    "    m_stat = (total_size - len(groups)) * log_det_pooled - log_det_groups\n",
    "\n",
    "    p = len(time_columns) \n",
    "    c = (2 * p**2 + 3 * p - 1) * (len(groups) - 1) / (6 * (p + 1) * (total_size - len(groups)))\n",
    "    m_stat /= c\n",
    "\n",
    "    df = (p * (p + 1) / 2) * (len(groups) - 1)\n",
    "    p_value = 1 - chi2.cdf(m_stat, df)\n",
    "\n",
    "    return m_stat, p_value\n",
    "\n",
    "\n",
    "time_columns = ['Before', 'After4weeks', 'After8weeks']\n",
    "box_m_stat, box_m_p_value = box_m_test_manual(df, group_column='Margarine', time_columns=time_columns)\n",
    "float(box_m_stat), float(box_m_p_value)\n"
   ]
  },
  {
   "cell_type": "markdown",
   "metadata": {},
   "source": [
    "```markdown\n",
    "The data failed the Levene's test, thus violating the equality between the groups of the between-subjects factor.\n",
    "```"
   ]
  },
  {
   "cell_type": "markdown",
   "metadata": {},
   "source": [
    "```markdown\n",
    "Since the data failed the assumption of homogeneity of variances, we will conduct Welch ANOVA or Kruskal-Wallis test to compare the groups.\n",
    "```"
   ]
  },
  {
   "cell_type": "code",
   "execution_count": 18,
   "metadata": {},
   "outputs": [
    {
     "data": {
      "text/html": [
       "<div>\n",
       "<style scoped>\n",
       "    .dataframe tbody tr th:only-of-type {\n",
       "        vertical-align: middle;\n",
       "    }\n",
       "\n",
       "    .dataframe tbody tr th {\n",
       "        vertical-align: top;\n",
       "    }\n",
       "\n",
       "    .dataframe thead th {\n",
       "        text-align: right;\n",
       "    }\n",
       "</style>\n",
       "<table border=\"1\" class=\"dataframe\">\n",
       "  <thead>\n",
       "    <tr style=\"text-align: right;\">\n",
       "      <th></th>\n",
       "      <th>ID</th>\n",
       "      <th>Margarine</th>\n",
       "      <th>Time</th>\n",
       "      <th>Cholesterol</th>\n",
       "      <th>Cholesterol_IQR</th>\n",
       "    </tr>\n",
       "  </thead>\n",
       "  <tbody>\n",
       "    <tr>\n",
       "      <th>0</th>\n",
       "      <td>4</td>\n",
       "      <td>A</td>\n",
       "      <td>After4weeks</td>\n",
       "      <td>4.27</td>\n",
       "      <td>-0.076531</td>\n",
       "    </tr>\n",
       "    <tr>\n",
       "      <th>1</th>\n",
       "      <td>6</td>\n",
       "      <td>A</td>\n",
       "      <td>After4weeks</td>\n",
       "      <td>7.12</td>\n",
       "      <td>1.086735</td>\n",
       "    </tr>\n",
       "    <tr>\n",
       "      <th>2</th>\n",
       "      <td>8</td>\n",
       "      <td>A</td>\n",
       "      <td>After4weeks</td>\n",
       "      <td>4.63</td>\n",
       "      <td>0.070408</td>\n",
       "    </tr>\n",
       "    <tr>\n",
       "      <th>3</th>\n",
       "      <td>10</td>\n",
       "      <td>A</td>\n",
       "      <td>After4weeks</td>\n",
       "      <td>3.70</td>\n",
       "      <td>-0.309184</td>\n",
       "    </tr>\n",
       "    <tr>\n",
       "      <th>4</th>\n",
       "      <td>13</td>\n",
       "      <td>A</td>\n",
       "      <td>After4weeks</td>\n",
       "      <td>5.56</td>\n",
       "      <td>0.450000</td>\n",
       "    </tr>\n",
       "  </tbody>\n",
       "</table>\n",
       "</div>"
      ],
      "text/plain": [
       "   ID Margarine         Time  Cholesterol  Cholesterol_IQR\n",
       "0   4         A  After4weeks         4.27        -0.076531\n",
       "1   6         A  After4weeks         7.12         1.086735\n",
       "2   8         A  After4weeks         4.63         0.070408\n",
       "3  10         A  After4weeks         3.70        -0.309184\n",
       "4  13         A  After4weeks         5.56         0.450000"
      ]
     },
     "execution_count": 18,
     "metadata": {},
     "output_type": "execute_result"
    }
   ],
   "source": [
    "df_melted.head()"
   ]
  },
  {
   "cell_type": "code",
   "execution_count": 19,
   "metadata": {},
   "outputs": [
    {
     "name": "stdout",
     "output_type": "stream",
     "text": [
      "      Source  ddof1      ddof2         F     p-unc       np2\n",
      "0  Margarine      1  31.655464  2.721785  0.108877  0.055864\n"
     ]
    }
   ],
   "source": [
    "import pingouin as pg\n",
    "\n",
    "welch_anova = pg.welch_anova(dv='Cholesterol', between='Margarine', data=df_melted)\n",
    "\n",
    "print(welch_anova)"
   ]
  },
  {
   "cell_type": "markdown",
   "metadata": {},
   "source": [
    "### Welch ANOVA Results\n",
    "\n",
    "The Welch ANOVA test was conducted to compare the cholesterol levels between the two types of margarine (A and B). The results are as follows:\n",
    "\n",
    "| Source    | ddof1 | ddof2    | F       | p-unc   | np2    |\n",
    "|-----------|-------|----------|---------|---------|--------|\n",
    "| Margarine | 1     | 31.655464| 2.721785| 0.055864| 0.108877|\n",
    "\n",
    "**Interpretation:**\n",
    "\n",
    "- **F-value**: The F-value is 2.721785, which indicates the ratio of the variance between the groups to the variance within the groups.\n",
    "- **p-value (p-unc)**: The p-value is 0.055864. This value is slightly above the common alpha level of 0.05, suggesting that there is no statistically significant difference in cholesterol levels between the two types of margarine at the 5% significance level.\n",
    "- **Effect size (np2)**: The partial eta squared (np2) value is 0.108877, which indicates a small to medium effect size.\n",
    "\n",
    "In conclusion, the Welch ANOVA test suggests that there is no significant difference in cholesterol levels between the two types of margarine, although the p-value is close to the threshold for significance."
   ]
  },
  {
   "cell_type": "code",
   "execution_count": 21,
   "metadata": {},
   "outputs": [
    {
     "name": "stdout",
     "output_type": "stream",
     "text": [
      "        Source        SS  DF1  DF2        MS           F         p-unc  \\\n",
      "0    Margarine  3.397429    1   12  3.397429    0.976877  3.424817e-01   \n",
      "1         Time  3.167719    2   24  1.583860  208.539131  6.735147e-16   \n",
      "2  Interaction  0.067600    2   24  0.033800    4.450309  2.270316e-02   \n",
      "\n",
      "      p-GG-corr       np2       eps sphericity   W-spher   p-spher  \n",
      "0           NaN  0.075278       NaN        NaN       NaN       NaN  \n",
      "1  2.225964e-10  0.945588  0.619772      False  0.386504  0.003334  \n",
      "2           NaN  0.270530       NaN        NaN       NaN       NaN  \n"
     ]
    }
   ],
   "source": [
    "import pingouin as pg\n",
    "\n",
    "# Perform the mixed ANOVA\n",
    "bw_anova = pg.mixed_anova(dv='Cholesterol', within='Time', between='Margarine', subject='ID', data=df_melted)\n",
    "\n",
    "print(bw_anova)"
   ]
  },
  {
   "cell_type": "markdown",
   "metadata": {},
   "source": [
    "### Summary Report\n",
    "\n",
    "#### Assumption 1\n",
    "The dependent variable in this dataset is continuous, thus not violating the first assumption of having a continuous dependent variable.\n",
    "\n",
    "#### Assumption 2\n",
    "\n",
    "The dataset contains two categories, B and A, for the variable 'Margarine', thus not violating the second assumption of having categorical independent variables.\n",
    "\n",
    "#### Assumption 3\n",
    "\n",
    "The dataset contains 'Time' with 3 categories: Before, After4weeks and After8weeks, thus not violating the third assumption.\n",
    "\n",
    "#### Boxplot\n",
    "There are significant outliers in B:Before, B:After4Weeks, B:After8weeks, thus violating the assumption 4. However, the researchers opted to remove them due to the low count.\n",
    "\n",
    "#### Box's M Test\n",
    "- **Statistic**: 75.428\n",
    "- **p-value**: 3.13e-14\n",
    "\n",
    "The Box's M test indicates that the covariance matrices are not equal across groups (p < 0.05), suggesting a violation of the assumption of homogeneity of covariance matrices.\n",
    "\n",
    "#### Shapiro-Wilk Test for Normality\n",
    "The Shapiro-Wilk test results for normality for each combination of 'Margarine' and 'Time' are as follows:\n",
    "\n",
    "| Margarine | Time        | W       | p-value |\n",
    "|-----------|-------------|---------|---------|\n",
    "| A         | After4weeks | 0.871   | 0.154   |\n",
    "| A         | After8weeks | 0.876   | 0.174   |\n",
    "| A         | Before      | 0.901   | 0.292   |\n",
    "| B         | After4weeks | 0.950   | 0.692   |\n",
    "| B         | After8weeks | 0.934   | 0.523   |\n",
    "| B         | Before      | 0.880   | 0.270   |\n",
    "\n",
    "All combinations have p-values greater than 0.05, indicating that the data is normally distributed.\n",
    "\n",
    "#### Levene's Test for Homogeneity of Variances\n",
    "The Levene's test results for homogeneity of variances for each time point are as follows:\n",
    "\n",
    "| Time        | W       | p-value |\n",
    "|-------------|---------|---------|\n",
    "| After4weeks | 7.051   | 0.018   |\n",
    "| After8weeks | 8.788   | 0.010   |\n",
    "| Before      | 15.291  | 0.002   |\n",
    "\n",
    "The p-values are less than 0.05, indicating that the variances are not equal across groups, violating the assumption of homogeneity of variances.\n",
    "\n",
    "#### Welch ANOVA\n",
    "The Welch ANOVA results for comparing cholesterol levels between the two types of margarine are as follows:\n",
    "\n",
    "| Source    | ddof1 | ddof2    | F       | p-unc   | np2    |\n",
    "|-----------|-------|----------|---------|---------|--------|\n",
    "| Margarine | 1     | 31.655464| 2.721785| 0.055864| 0.108877|\n",
    "\n",
    "The p-value is slightly above 0.05, suggesting no statistically significant difference in cholesterol levels between the two types of margarine at the 5% significance level.\n",
    "\n",
    "#### Mixed ANOVA\n",
    "The mixed ANOVA results for the within-subjects factor (Time) and between-subjects factor (Margarine) are as follows:\n",
    "\n",
    "| Source      | SS       | DF1 | DF2 | MS       | F        | p-unc       | np2    |\n",
    "|-------------|----------|-----|-----|----------|----------|-------------|--------|\n",
    "| Margarine   | 3.397429 | 1   | 12  | 3.397429 | 0.976877 | 0.342482    | 0.075278 |\n",
    "| Time        | 3.167719 | 2   | 24  | 1.583860 | 208.539131 | 6.735147e-16 | 0.945588 |\n",
    "| Interaction | 0.067600 | 2   | 24  | 0.033800 | 4.450309 | 0.022703    | 0.270530 |\n",
    "\n",
    "The results indicate a significant effect of Time on cholesterol levels (p < 0.05), but no significant interaction between Time and Margarine (p > 0.05).\n",
    "\n",
    "### Conclusion\n",
    "- The Box's M test and Levene's test indicate violations of assumptions related to homogeneity of covariance matrices and variances.\n",
    "- The Shapiro-Wilk test suggests that the data is normally distributed.\n",
    "- The Welch ANOVA suggests no significant difference in cholesterol levels between the two types of margarine.\n",
    "- The mixed ANOVA indicates a significant effect of Time on cholesterol levels, but no significant interaction between Time and Margarine."
   ]
  },
  {
   "cell_type": "code",
   "execution_count": null,
   "metadata": {},
   "outputs": [],
   "source": []
  }
 ],
 "metadata": {
  "kernelspec": {
   "display_name": "Python 3 (ipykernel)",
   "language": "python",
   "name": "python3"
  },
  "language_info": {
   "codemirror_mode": {
    "name": "ipython",
    "version": 3
   },
   "file_extension": ".py",
   "mimetype": "text/x-python",
   "name": "python",
   "nbconvert_exporter": "python",
   "pygments_lexer": "ipython3",
   "version": "3.12.5"
  }
 },
 "nbformat": 4,
 "nbformat_minor": 4
}
